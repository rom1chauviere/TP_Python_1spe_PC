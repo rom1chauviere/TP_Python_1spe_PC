{
 "cells": [
  {
   "cell_type": "markdown",
   "metadata": {},
   "source": [
    "# <center>Conservation de l'énergie mécanique</center>\n",
    "\n",
    "\n",
    "\n",
    "<div class=\"alert alert-info\" role=\"alert\">\n",
    "Un notebook Jupyter est composé de deux types de cellules :<br>\n",
    "<ul><li> des cellules contenant du <b>texte</b> qu'il est nécessaire <b>de lire pour suivre correctement les consignes</b> ;</li><br>\n",
    "<li>des cellules contenant du <b>code Python</b> qu'il est nécessaire <b>d'éxécuter dans l'ordre d'apparition</b>.</li></ul><br>\n",
    "<br>\n",
    "<b>Pour exécuter une cellule sélectionnée</b> (encadrée en vert), il faut cliquer :<br>\n",
    "<ul><li>sur le bouton \"Exécuter\" situé à côté de la cellule<br><img src=\"Jupyter_Executer.bis.jpg\"></li><br>\n",
    "<li>ou sur le bouton \"Exécuter\" dans le bandeau supérieur.\n",
    "<br>\n",
    "<center><img src=\"Jupyter_Executer.jpg\"></center><br></li></ul>\n",
    "<br>\n",
    "Sur la gauche d'une cellule contenant du code Python, il y a l'indication <b>Entrée [&#160;&#160;]</b><br>\n",
    "<ul><li><b>Entrée [&#160;&#160;]</b> signifie que la cellule n'a pas été exécutée ;</li><br>\n",
    "<li><b>Entrée [*]</b> signifie que la cellule est en cours d'exécution. Soit il faut une action de votre part (saisie d'une valeur dans un <b>Input</b>, soit il faut donc patienter quelques secondes pour que tout le code s'exécute ;</li><br>\n",
    "<li><b>Entrée [14]</b> signifie que la cellule a été exécutée au rang 14.</li></ul><br>\n",
    "</div>\n",
    "\n",
    "<br>\n",
    "<div class=\"alert alert-danger\" role=\"alert\">\n",
    "<center><font size=\"5\">Ne modifier que la partie du code contenant ---A COMPLETER---</font></center>\n",
    "</div>"
   ]
  },
  {
   "cell_type": "markdown",
   "metadata": {},
   "source": [
    "## Importation des mesures"
   ]
  },
  {
   "cell_type": "code",
   "execution_count": null,
   "metadata": {
    "collapsed": true
   },
   "outputs": [],
   "source": [
    "\"\"\"\n",
    "Fonction important les coordonnées t, x et y depuis un fichier .txt (ou .csv) provenant d'Aviméca\n",
    "Entrées : nom du fichier avec l'extension, type de séparateur entre les données\n",
    "            (cela peut être un point-virgule \";\", une virgule \",\" ou une tabulation notée \"\\t\")\n",
    "Résultat : liste contenant la liste de tous les t (en s), la liste de tous les x (en m) et la liste de tous les y (en m)\n",
    "\"\"\"\n",
    "def import_avimeca(name, sep):\n",
    "    entete = 3 #nombre de lignes d'entete\n",
    "    f=open(name,\"r\")\n",
    "    data = f.readlines() #on lit toutes les lignes et on met ça dans une liste -un élément par ligne-\n",
    "\n",
    "    data = data[ entete : ] #on supprime les lignes d'en-tête qui ne nous intéressent pas\n",
    "\n",
    "    #on construit les listes de valeurs utiles\n",
    "    t = []\n",
    "    x = []\n",
    "    y = []\n",
    "    for ligne in data:\n",
    "        ligne = ligne.replace(\",\" , \".\") #change les virgules en point => format numérique différent sur aviméca et sur python\n",
    "        ligne = ligne.strip().split(sep) #on sépare les différents élément en utilisant le caractère séparateur défini\n",
    "        ligne = list(map(float,ligne)) #on convertit chaque élément en float\n",
    "        #on rentre les valeurs dans les listes adaptées\n",
    "        t.append(ligne[0])\n",
    "        x.append(ligne[1])\n",
    "        y.append(ligne[2])\n",
    "    print(\"Le fichier a bien été importé\")\n",
    "    return [t,x,y]"
   ]
  },
  {
   "cell_type": "markdown",
   "metadata": {},
   "source": [
    "<div class=\"alert alert-warning\" role=\"alert\">\n",
    " Choisir le fichier à importer en supprimant le # devant la ligne correspondante.<br>\n",
    " <br>\n",
    "<details>\n",
    "<summary>Aide</summary>\n",
    "<p>Dans le code Python, une ligne qui commence par # n'est pas exécutée. Si vous voulez importer les données du fichier *Pointage_bille_acier.txt*, il faut enlever le # devant cette ligne. Pour le remettre, il faut utiliser les touches *Alt Gr* + *3*.<br>\n",
    "<img src=\"Jupyter_Kernel_aide_TP15.1.jpg\"></p>\n",
    "</details>\n",
    "</div>"
   ]
  },
  {
   "cell_type": "code",
   "execution_count": null,
   "metadata": {
    "collapsed": true
   },
   "outputs": [],
   "source": [
    "#t,x,y = import_avimeca(\"Pointage_bille_acier.txt\",\";\")\n",
    "#t,x,y = import_avimeca(\"Pointage_bille_polystyrène.txt\",\";\")\n",
    "#t,x,y = import_avimeca(\"Pointage_pendule_pesant.txt\",\";\")\n",
    "#t,x,y = import_avimeca(\"Pointage_pendule_pesant_amorti.txt\",\";\")"
   ]
  },
  {
   "cell_type": "markdown",
   "metadata": {},
   "source": [
    "<div class=\"alert alert-success\" role=\"alert\">\n",
    "Il faut maintenant comprendre comment les informations sont stockées.\n",
    "</div>\n"
   ]
  },
  {
   "cell_type": "code",
   "execution_count": null,
   "metadata": {
    "collapsed": true
   },
   "outputs": [],
   "source": [
    "print(t)"
   ]
  },
  {
   "cell_type": "code",
   "execution_count": null,
   "metadata": {
    "collapsed": true
   },
   "outputs": [],
   "source": [
    "print(x)"
   ]
  },
  {
   "cell_type": "code",
   "execution_count": null,
   "metadata": {
    "collapsed": true
   },
   "outputs": [],
   "source": [
    "print(y)"
   ]
  },
  {
   "cell_type": "code",
   "execution_count": null,
   "metadata": {
    "collapsed": true
   },
   "outputs": [],
   "source": [
    "print(\"Coordonnées du premier point :\",t[0],x[0],y[0])"
   ]
  },
  {
   "cell_type": "code",
   "execution_count": null,
   "metadata": {
    "collapsed": true
   },
   "outputs": [],
   "source": [
    "print(\"Coordonnées du dernier point :\",t[-1],x[-1],y[-1])"
   ]
  },
  {
   "cell_type": "markdown",
   "metadata": {},
   "source": [
    "## Tracé de la trajectoire du système y = f(x)"
   ]
  },
  {
   "cell_type": "code",
   "execution_count": null,
   "metadata": {
    "collapsed": true
   },
   "outputs": [],
   "source": [
    "import matplotlib.pyplot as plt\n",
    "\"\"\"\n",
    "Fonction générant le nuage de points y en fonction de x\n",
    "Entrées : coordonnées de x, coordonnées de y, titre abscisse, titre ordonnée, titre graphique\n",
    "Résultat : nuage de points y en fonction de x avec affichage du point Mi\n",
    "\"\"\"\n",
    "def nuagedepoints(x,y,xtitle,ytitle,title):\n",
    "    plt.rcParams['figure.figsize'] = [10, 10]\n",
    "                            # taille de l'affichage du graphique\n",
    "    plt.plot(x, y, linestyle=\"none\" ,marker=\"x\" ,color=\"red\", markersize=\"10\",label=\"nuage de points\")\n",
    "                            # nuage de points,'none' points non reliés,'x' forme des points (o,-,+,s)\n",
    "                            # 'red' couleur (blue, green, cyan, magenta, yellow, black)\n",
    "                            # '10' taille des points\n",
    "                            # affiche la légende\n",
    "    plt.axis('equal')       # repère orthonormé\n",
    "                            # boucle générant l'écriture \"Mi\" à proximité du point correspondant\n",
    "    for i in range(len(x)):\n",
    "        df=max(max(x)-min(x),max(y)-min(y))/20\n",
    "        numero=str(i)\n",
    "        table = str.maketrans({str(j):chr(0x2080 + j) for j in range(10)})\n",
    "        indice=numero.translate(table) \n",
    "        plt.text(x[i],y[i]+df,'M'+indice,color='black', horizontalalignment='center', verticalalignment='center')\n",
    "    plt.xlabel(xtitle)      # légende axe des abscisses\n",
    "    plt.ylabel(ytitle)      # légende axe des ordonnées\n",
    "    #plt.legend()            # affiche la légende\n",
    "    plt.title(title)        # affiche un titre"
   ]
  },
  {
   "cell_type": "markdown",
   "metadata": {},
   "source": [
    "<div class=\"alert alert-warning\" role=\"alert\">\n",
    "Après avoir compris le fonctionnement de la fonction <font color=red><i>nuagedepoints</i></font>, compléter la 1ère ligne de code ci-dessous pour afficher le graphique représentant la trajectoire du centre du système étudié.\n",
    "<br>\n",
    "<br>\n",
    "<details>\n",
    "<summary>Aide</summary>\n",
    "<p>Il est nécessaire de bien lire la description de la fonction et plus particulièrement la ligne *Entrée*.</p>\n",
    "</details>\n",
    "<br>\n",
    "<details>\n",
    "<summary>Aide</summary>\n",
    "<p>Les coordonnées des abcisses sont stockées dans une variable sous forme de liste. Si besoin, revoir les *Print* effectués précedemment.</p>\n",
    "</details>\n",
    "<br>\n",
    "<details>\n",
    "<summary>Aide</summary>\n",
    "<p>Les titres correspondent à du texte. Il faut donc le mettre entre quote ('') ou guillements(\"\")</p>\n",
    "</details>\n",
    "</div>"
   ]
  },
  {
   "cell_type": "code",
   "execution_count": null,
   "metadata": {
    "collapsed": true
   },
   "outputs": [],
   "source": [
    "nuagedepoints(---A COMPLETER---)\n",
    "\n",
    "\n",
    "#plt.savefig('chronophotographie.png', dpi=200, transparent = False,bbox_inches='tight') # enregistre le graphique dans le dossier courant\n",
    "plt.show() # affiche le graphique"
   ]
  },
  {
   "cell_type": "markdown",
   "metadata": {},
   "source": [
    "### Calcul de la norme du vecteur vitesse instantanée approchée avec Python"
   ]
  },
  {
   "cell_type": "code",
   "execution_count": null,
   "metadata": {
    "collapsed": true
   },
   "outputs": [],
   "source": [
    "\"\"\"\n",
    "Fonction générant la norme du vecteur vitesse instantanée approchée au point Mi\n",
    "Entrées : coordonnées x, coordonnées y, dates t, point i\n",
    "Résultat : norme du vecteur vitesse instantanée approchée vi au point Mi\n",
    "\"\"\"\n",
    "from math import sqrt # sqrt = racine carrée\n",
    "\n",
    "def norme_vecteur_vitesse(x,y,t,i):\n",
    "    vx=(x[i+1]-x[i])/(t[i+1]-t[i])\n",
    "    vy=(y[i+1]-y[i])/(t[i+1]-t[i])\n",
    "    return sqrt(vx**2+vy**2) # vx**2 correspond à vx²"
   ]
  },
  {
   "cell_type": "markdown",
   "metadata": {},
   "source": [
    "<div class=\"alert alert-warning\" role=\"alert\">\n",
    "Après avoir compris le fonctionnement de la fonction <font color=red><i>norme_vecteur_vitesse</i></font>, compléter la ligne de code ci-dessous pour calculer la norme du vecteur vitesse instantanée approchée $v_{0}=||\\vec v_{0}||$.\n",
    "<br>\n",
    "<br>\n",
    "<details>\n",
    "<summary>Aide</summary>\n",
    "<p>Le point $M_{0}$ correspond au point $M_{i}$ avec i = 0.</p>\n",
    "</details>\n",
    "</div>"
   ]
  },
  {
   "cell_type": "code",
   "execution_count": null,
   "metadata": {
    "collapsed": true
   },
   "outputs": [],
   "source": [
    "v = norme_vecteur_vitesse(---A COMPLETER---)\n",
    "\n",
    "print(\"Au point M0, la norme du vecteur vitesse instantanée approchée vaut v0 =\",\"{:.3f}\".format(v),\" m/s.\" )\n",
    "        # affiche la valeur de v avec 2 décimales (2f = 2 float)"
   ]
  },
  {
   "cell_type": "markdown",
   "metadata": {},
   "source": [
    "<div class=\"alert alert-warning\" role=\"alert\">\n",
    "Après avoir compris le fonctionnement de la fonction <font color=red><i>norme_vecteur_vitesse</i></font>, compléter les lignes de code ci-dessous pour calculer la norme du vecteur vitesse instantanée approchée à chaque point $M_{i}$ : $v_{i}=||\\vec v_{i}||$.\n",
    "</div>"
   ]
  },
  {
   "cell_type": "code",
   "execution_count": null,
   "metadata": {
    "collapsed": true
   },
   "outputs": [],
   "source": [
    "print(\"Norme du vecteur vitesse instantanée approchée à chaque date t\")\n",
    "print(\"t(en s)\",\"\\t\",\"v (en m/s)\")  # \\t correspond à une tabulation\n",
    "\n",
    "for i in range(---A COMPLETER---): # len() permet de connaître le nombre d'éléments contenus dans une liste\n",
    "    v = norme_vecteur_vitesse(---A COMPLETER---) # calcul de la norme du vecteur vitesse instantanée approchée au point Mi\n",
    "    print(\"{:.3f}\".format(t[i]),\"\\t\",\"\\t\",\"{:.3f}\".format(v))"
   ]
  },
  {
   "cell_type": "markdown",
   "metadata": {},
   "source": [
    "<div class=\"alert alert-warning\" role=\"alert\">\n",
    "Après avoir compris le fonctionnement de la fonction <font color=red><i>norme_vecteur_vitesse</i></font>, compléter les lignes de code ci-dessous pour stocker dans une liste la norme du vecteur vitesse instantanée approchée à chaque point $M_{i}$\n",
    "</div>"
   ]
  },
  {
   "cell_type": "code",
   "execution_count": null,
   "metadata": {
    "collapsed": true
   },
   "outputs": [],
   "source": [
    "v_inst=[] # création de la liste vide\n",
    "\n",
    "for i in range(---A COMPLETER---): # len() permet de connaître le nombre d'éléments contenus dans une liste\n",
    "    v= norme_vecteur_vitesse(---A COMPLETER---) # calcul de la norme du vecteur vitesse instantanée approchée au point Mi\n",
    "    v_inst.append(v) # ajout à la liste de la norme du vecteur vitesse instantanée approchée au point Mi"
   ]
  },
  {
   "cell_type": "markdown",
   "metadata": {},
   "source": [
    "<div class=\"alert alert-success\" role=\"alert\">\n",
    "Il faut maintenant comprendre comment les informations sont stockées.\n",
    "</div>"
   ]
  },
  {
   "cell_type": "code",
   "execution_count": null,
   "metadata": {
    "collapsed": true
   },
   "outputs": [],
   "source": [
    "print(v_inst)"
   ]
  },
  {
   "cell_type": "markdown",
   "metadata": {},
   "source": [
    "<div class=\"alert alert-info\" role=\"alert\">\n",
    "Pour ne plus faire de boucle en utilisant *len(t)-1*, nous allons supprimer la dernière valeur de la liste.</div>"
   ]
  },
  {
   "cell_type": "code",
   "execution_count": null,
   "metadata": {
    "collapsed": true
   },
   "outputs": [],
   "source": [
    "print(t)\n",
    "print(len(t))\n",
    "print(len(v_inst))"
   ]
  },
  {
   "cell_type": "code",
   "execution_count": null,
   "metadata": {
    "collapsed": true
   },
   "outputs": [],
   "source": [
    "t=t[0:-1]"
   ]
  },
  {
   "cell_type": "code",
   "execution_count": null,
   "metadata": {
    "collapsed": true
   },
   "outputs": [],
   "source": [
    "print(t)\n",
    "print(len(t))\n",
    "print(len(v_inst))"
   ]
  },
  {
   "cell_type": "markdown",
   "metadata": {},
   "source": [
    "### Calcul l'énergie cinétique à partir de la norme du vecteur vitesse instantanée approchée avec Python"
   ]
  },
  {
   "cell_type": "code",
   "execution_count": null,
   "metadata": {
    "collapsed": true
   },
   "outputs": [],
   "source": [
    "\"\"\"\n",
    "Fonction calculant l'énergie cinétique à partir de la norme du vecteur vitesse instantanée approchée au point Mi\n",
    "Entrées : masse du système (en kg), normes de v, point i\n",
    "Résultat : énergie cinétique au point Mi\n",
    "\"\"\"\n",
    "\n",
    "def energie_cinetique(m,v,i):\n",
    "    return 0.5*m*(v[i])**2 # v**2 correspond à v²"
   ]
  },
  {
   "cell_type": "markdown",
   "metadata": {},
   "source": [
    "<div class=\"alert alert-info\" role=\"alert\">\n",
    "Nous allons stocker en mémoire la valeur de la masse du système en exécutant la ligne de code ci-dessous.<br>\n",
    "<br>\n",
    "<ul><li>La masse de la bille en acier vaut 27,3 g soit 27.3E-3 kg.</li>\n",
    "<li>La masse de la bille en polystyrène vaut 1,8 g soit 1.8E-3 kg.</li>\n",
    "<li>La masse du pendule simple vaut 120 g soit 120E-3 kg.</li>\n",
    "<li>La masse du pendule pesant vaut 380 g soit 380E-3 kg.</li></ul>\n",
    "</div>"
   ]
  },
  {
   "cell_type": "code",
   "execution_count": null,
   "metadata": {
    "collapsed": true
   },
   "outputs": [],
   "source": [
    "m=float(input(\"La masse (en kg) du système vaut :\")) # float permet de stocker la saisie sous forme d'un nombre décimal"
   ]
  },
  {
   "cell_type": "markdown",
   "metadata": {},
   "source": [
    "<div class=\"alert alert-success\" role=\"alert\">\n",
    "Il faut maintenant comprendre comment l'information est stockée.\n",
    "</div>"
   ]
  },
  {
   "cell_type": "code",
   "execution_count": null,
   "metadata": {
    "collapsed": true
   },
   "outputs": [],
   "source": [
    "print(m)"
   ]
  },
  {
   "cell_type": "markdown",
   "metadata": {},
   "source": [
    "<div class=\"alert alert-warning\" role=\"alert\">\n",
    "Après avoir compris le fonctionnement de la fonction <font color=red><i>energie_cinetique</i></font>, compléter la ligne de code ci-dessous pour calculer l'énergie cinétique au point $M_{0}$.<br>\n",
    "<br>\n",
    "<details>\n",
    "<summary>Aide</summary>\n",
    "<p>Toutes les valeurs de vitesse au point $M_{i}$ sont stockées dans la variable *v_inst*.</p>\n",
    "</details>\n",
    "<br>\n",
    "<details>\n",
    "<summary>Aide</summary>\n",
    "<p>Le point $M_{0}$ correspond au point $M_{i}$ avec i = 0.</p>\n",
    "</details>\n",
    "</div>"
   ]
  },
  {
   "cell_type": "code",
   "execution_count": null,
   "metadata": {
    "collapsed": true
   },
   "outputs": [],
   "source": [
    "Ec = energie_cinetique(---A COMPLETER---)\n",
    "\n",
    "print(\"Au point M0, l'énergie cinétique vaut Ec(M0) =\",\"{:.3f}\".format(Ec),\" J.\" )\n",
    "        # affiche la valeur de Ec avec 2 décimales (2f = 2 float)"
   ]
  },
  {
   "cell_type": "markdown",
   "metadata": {},
   "source": [
    "<div class=\"alert alert-warning\" role=\"alert\">\n",
    "Après avoir compris le fonctionnement de la fonction <font color=red><i>energie_cinetique</i></font>, compléter les lignes de code ci-dessous pour calculer l'énergie cinétique à chaque point $M_{i}$.\n",
    "</div>"
   ]
  },
  {
   "cell_type": "code",
   "execution_count": null,
   "metadata": {
    "collapsed": true
   },
   "outputs": [],
   "source": [
    "print(\"Energie cinétique à chaque date t\")\n",
    "print(\"t(en s)\",\"\\t\",\"Ec (en J)\")  # \\t correspond à une tabulation\n",
    "\n",
    "for i in range(---A COMPLETER---): # len() permet de connaître le nombre d'éléments contenus dans une liste\n",
    "    Ec=energie_cinetique(---A COMPLETER---) # calcul l'énergie cinétique au point Mi\n",
    "    print(\"{:.3f}\".format(t[i]),\"\\t\",\"\\t\",\"{:.3f}\".format(Ec))"
   ]
  },
  {
   "cell_type": "markdown",
   "metadata": {},
   "source": [
    "<div class=\"alert alert-warning\" role=\"alert\">\n",
    "Après avoir compris le fonctionnement de la fonction <font color=red><i>energie_cinetique</i></font>, compléter les lignes de code ci-dessous pour stocker dans une liste la valeur de chaque énergie cinétique à chaque point $M_{i}$\n",
    "</div>"
   ]
  },
  {
   "cell_type": "code",
   "execution_count": null,
   "metadata": {
    "collapsed": true
   },
   "outputs": [],
   "source": [
    "Ec_inst=[] # création de la liste vide\n",
    "\n",
    "for i in range(---A COMPLETER---): # len() permet de connaître le nombre d'éléments contenus dans une liste\n",
    "    Ec= energie_cinetique(---A COMPLETER---) # calcul de la valeur de l'énergie cinétique au point Mi\n",
    "    Ec_inst.append(Ec) # ajout à la liste de la valeur de l'énergie cinétique au point Mi"
   ]
  },
  {
   "cell_type": "markdown",
   "metadata": {},
   "source": [
    "<div class=\"alert alert-success\" role=\"alert\">\n",
    "Il faut maintenant comprendre comment les informations sont stockées.\n",
    "</div>"
   ]
  },
  {
   "cell_type": "code",
   "execution_count": null,
   "metadata": {
    "collapsed": true
   },
   "outputs": [],
   "source": [
    "print(Ec_inst)"
   ]
  },
  {
   "cell_type": "markdown",
   "metadata": {},
   "source": [
    "<div class=\"alert alert-info\" role=\"alert\">\n",
    "Il est possible d'écrire la boucle *for* réalisée précedemment en une seule ligne. Il faut vous habituer à lire et comprendre des codes différents qui donnent le même résultat.\n",
    "</div>"
   ]
  },
  {
   "cell_type": "code",
   "execution_count": null,
   "metadata": {
    "collapsed": true
   },
   "outputs": [],
   "source": [
    "Ec_inst_2 = [1/2*m*v**2 for v in v_inst]"
   ]
  },
  {
   "cell_type": "markdown",
   "metadata": {},
   "source": [
    "<div class=\"alert alert-success\" role=\"alert\">\n",
    "Il faut maintenant comparer les informations stockées dans Ec_inst et Ec_inst_2.\n",
    "</div>"
   ]
  },
  {
   "cell_type": "code",
   "execution_count": null,
   "metadata": {
    "collapsed": true
   },
   "outputs": [],
   "source": [
    "print(Ec_inst)\n",
    "print(Ec_inst_2)\n",
    "print(Ec_inst==Ec_inst_2)\n",
    "# == permet de comparer deux variables. Si elles sont identiques, le résultat est *True*. Dans le cas contraire, c'est *False*."
   ]
  },
  {
   "cell_type": "markdown",
   "metadata": {},
   "source": [
    "### Calcul l'énergie potentielle de pesanteur à partir de la position y avec Python"
   ]
  },
  {
   "cell_type": "code",
   "execution_count": null,
   "metadata": {
    "collapsed": true
   },
   "outputs": [],
   "source": [
    "\"\"\"\n",
    "Fonction calculant l'énergie potentielle de pesanteur (à la surface de la Terre) à partir de l'altitude (ordonnée) au point Mi\n",
    "Entrées : masse du système (en kg), ordonnées y, point i\n",
    "Résultat : énergie potentielle de pesanteur au point Mi\n",
    "\"\"\"\n",
    "\n",
    "def energie_potentielle(m,y,i):\n",
    "    g=9.81 # en N/kg\n",
    "    z=(y[i]+y[i+1])/2 # z correspond à la position moyenne entre les points Mi et Mi+1 par rapport à l'axe des ordonnées\n",
    "    return m*g*z"
   ]
  },
  {
   "cell_type": "markdown",
   "metadata": {},
   "source": [
    "<div class=\"alert alert-warning\" role=\"alert\">\n",
    "Après avoir compris le fonctionnement de la fonction <font color=red><i>energie_potentielle</i></font>, compléter la ligne de code ci-dessous pour calculer l'énergie potentielle de pesanteur au point $M_{0}$.<br>\n",
    "<br>\n",
    "<details>\n",
    "<summary>Aide</summary>\n",
    "<p>Toutes les valeurs de l'altitude z au point $M_{i}$ sont stockées dans la variable *y*.</p>\n",
    "</details>\n",
    "<br>\n",
    "<details>\n",
    "<summary>Aide</summary>\n",
    "<p>Le point $M_{0}$ correspond au point $M_{i}$ avec i = 0.</p>\n",
    "</details>\n",
    "</div>"
   ]
  },
  {
   "cell_type": "code",
   "execution_count": null,
   "metadata": {
    "collapsed": true
   },
   "outputs": [],
   "source": [
    "Epp = energie_potentielle(---A COMPLETER---)\n",
    "\n",
    "print(\"Au point M0, l'énergie potentielle de pesanteur vaut Epp(M0) =\",\"{:.3f}\".format(Epp),\" J.\" )\n",
    "        # affiche la valeur de Epp avec 2 décimales (2f = 2 float)"
   ]
  },
  {
   "cell_type": "markdown",
   "metadata": {},
   "source": [
    "<div class=\"alert alert-warning\" role=\"alert\">\n",
    "Après avoir compris le fonctionnement de la fonction <font color=red><i>energie_potentielle</i></font>, compléter les lignes de code ci-dessous pour calculer l'énergie potentielle de pesanteur à chaque point $M_{i}$.</div>"
   ]
  },
  {
   "cell_type": "code",
   "execution_count": null,
   "metadata": {
    "collapsed": true
   },
   "outputs": [],
   "source": [
    "print(\"Energie potentielle de pesanteur à chaque date t\")\n",
    "print(\"t(en s)\",\"\\t\",\"Epp (en J)\")  # \\t correspond à une tabulation\n",
    "\n",
    "for i in range(---A COMPLETER---): # len() permet de connaître le nombre d'éléments contenus dans une liste\n",
    "    Epp=energie_potentielle(---A COMPLETER---) # calcul l'énergie potentielle de pesanteur au point Mi\n",
    "    print(\"{:.3f}\".format(t[i]),\"\\t\",\"\\t\",\"{:.3f}\".format(Epp))"
   ]
  },
  {
   "cell_type": "markdown",
   "metadata": {},
   "source": [
    "<div class=\"alert alert-warning\" role=\"alert\">\n",
    "Après avoir compris le fonctionnement de la fonction <font color=red><i>energie_potentielle</i></font>, compléter les lignes de code ci-dessous pour stocker dans une liste l'énergie potentielle de pesanteur à chaque point $M_{i}$</div>"
   ]
  },
  {
   "cell_type": "code",
   "execution_count": null,
   "metadata": {
    "collapsed": true
   },
   "outputs": [],
   "source": [
    "Epp_inst=[] # création de la liste vide\n",
    "\n",
    "for i in range(---A COMPLETER---): # len() permet de connaître le nombre d'éléments contenus dans une liste\n",
    "    Epp= energie_potentielle(---A COMPLETER---) # calcul de la valeur de l'énergie potentielle de pesanteur au point Mi\n",
    "    Epp_inst.append(Epp) # ajout à la liste de la valeur de l'énergie potentielle de pesanteur au point Mi"
   ]
  },
  {
   "cell_type": "markdown",
   "metadata": {},
   "source": [
    "<div class=\"alert alert-success\" role=\"alert\">\n",
    "Il faut maintenant comprendre comment les informations sont stockées.\n",
    "</div>"
   ]
  },
  {
   "cell_type": "code",
   "execution_count": null,
   "metadata": {
    "collapsed": true
   },
   "outputs": [],
   "source": [
    "print(Epp_inst)"
   ]
  },
  {
   "cell_type": "markdown",
   "metadata": {},
   "source": [
    "<div class=\"alert alert-info\" role=\"alert\">\n",
    "Il est possible d'écrire la boucle *for* réalisée précedemment en une seule ligne. Il faut vous habituer à lire et comprendre des codes différents qui donnent le même résultat.\n",
    "</div>"
   ]
  },
  {
   "cell_type": "code",
   "execution_count": null,
   "metadata": {
    "collapsed": true
   },
   "outputs": [],
   "source": [
    "Epp_inst_2 = [m*9.81*(y[i]+y[i+1])/2 for i in range (len(t))]"
   ]
  },
  {
   "cell_type": "markdown",
   "metadata": {},
   "source": [
    "<div class=\"alert alert-success\" role=\"alert\">\n",
    "Il faut maintenant comparer les informations stockées dans Epp_inst et Epp_inst_2.\n",
    "</div>"
   ]
  },
  {
   "cell_type": "code",
   "execution_count": null,
   "metadata": {
    "collapsed": true
   },
   "outputs": [],
   "source": [
    "print(Epp_inst)\n",
    "print(Epp_inst_2)\n",
    "print(Epp_inst==Epp_inst_2)\n",
    "# == permet de comparer deux variables. Si elles sont identiques, le résultat est *True*. Dans le cas contraire, c'est *False*."
   ]
  },
  {
   "cell_type": "markdown",
   "metadata": {},
   "source": [
    "### Calcul l'énergie mécanique avec Python"
   ]
  },
  {
   "cell_type": "code",
   "execution_count": null,
   "metadata": {
    "collapsed": true
   },
   "outputs": [],
   "source": [
    "\"\"\"\n",
    "Fonction calculant l'énergie mécanique à partir de l'énergie cinétique et l'énergie potentielle de pesanteur au point Mi\n",
    "Entrées : énergies cinétiques, énergies potentielles de pesanteur, point i\n",
    "Résultat : énergie mécanique au point Mi\n",
    "\"\"\"\n",
    "\n",
    "def energie_mecanique(Ec,Epp,i):\n",
    "    return Ec[i] + Epp[i]"
   ]
  },
  {
   "cell_type": "markdown",
   "metadata": {},
   "source": [
    "<div class=\"alert alert-warning\" role=\"alert\">\n",
    "Après avoir compris le fonctionnement de la fonction <font color=red><i>energie_mecanique</i></font>, compléter la ligne de code ci-dessous pour calculer l'énergie mécanique au point $M_{0}$.<br>\n",
    "<br>\n",
    "<details>\n",
    "<summary>Aide</summary>\n",
    "<p>Toutes les valeurs de l'énergie cinétique au point $M_{i}$ sont stockées dans la variable *Ec_inst*.<br>\n",
    "Toutes les valeurs de l'énergie potentielles de pesanteur au point $M_{i}$ sont stockées dans la variable *Epp_inst*.</p>\n",
    "</details>\n",
    "<br>\n",
    "<details>\n",
    "<summary>Aide</summary>\n",
    "<p>Le point $M_{0}$ correspond au point $M_{i}$ avec i = 0.</p>\n",
    "</details>\n",
    "</div>"
   ]
  },
  {
   "cell_type": "code",
   "execution_count": null,
   "metadata": {
    "collapsed": true
   },
   "outputs": [],
   "source": [
    "Em = energie_mecanique(---A COMPLETER---)\n",
    "\n",
    "print(\"Au point M0, l'énergie mécanique vaut Em(M0) =\",\"{:.3f}\".format(Em),\" J.\" )\n",
    "        # affiche la valeur de Em avec 2 décimales (2f = 2 float)"
   ]
  },
  {
   "cell_type": "markdown",
   "metadata": {},
   "source": [
    "<div class=\"alert alert-warning\" role=\"alert\">\n",
    "Après avoir compris le fonctionnement de la fonction <font color=red><i>energie_mecanique</i></font>, compléter les lignes de code ci-dessous pour calculer l'énergie mécanique à chaque point $M_{i}$.</div>"
   ]
  },
  {
   "cell_type": "code",
   "execution_count": null,
   "metadata": {
    "collapsed": true
   },
   "outputs": [],
   "source": [
    "print(\"Energie mécanique à chaque date t\")\n",
    "print(\"t(en s)\",\"\\t\",\"Em (en J)\")  # \\t correspond à une tabulation\n",
    "\n",
    "for i in range(---A COMPLETER---): # len() permet de connaître le nombre d'éléments contenus dans une liste\n",
    "    Em=energie_mecanique(---A COMPLETER---) # calcul l'énergie mécanique de pesanteur au point Mi\n",
    "    print(\"{:.3f}\".format(t[i]),\"\\t\",\"\\t\",\"{:.3f}\".format(Em))"
   ]
  },
  {
   "cell_type": "markdown",
   "metadata": {},
   "source": [
    "<div class=\"alert alert-warning\" role=\"alert\">\n",
    "Après avoir compris le fonctionnement de la fonction <font color=red><i>energie_mecanique</i></font>, compléter les lignes de code ci-dessous pour stocker dans une liste l'énergie mécanique à chaque point $M_{i}$</div>"
   ]
  },
  {
   "cell_type": "code",
   "execution_count": null,
   "metadata": {
    "collapsed": true
   },
   "outputs": [],
   "source": [
    "Em_inst=[] # création de la liste vide\n",
    "\n",
    "for i in range(---A COMPLETER---): # len() permet de connaître le nombre d'éléments contenus dans une liste\n",
    "    Em= energie_mecanique(---A COMPLETER---) # calcul de la valeur de l'énergie mécanique au point Mi\n",
    "    Em_inst.append(Em) # ajout à la liste de la valeur de l'énergie mécanique au point Mi"
   ]
  },
  {
   "cell_type": "markdown",
   "metadata": {},
   "source": [
    "<div class=\"alert alert-success\" role=\"alert\">\n",
    "Il faut maintenant comprendre comment les informations sont stockées.\n",
    "</div>"
   ]
  },
  {
   "cell_type": "code",
   "execution_count": null,
   "metadata": {
    "collapsed": true
   },
   "outputs": [],
   "source": [
    "print(Em_inst)"
   ]
  },
  {
   "cell_type": "markdown",
   "metadata": {},
   "source": [
    "<div class=\"alert alert-info\" role=\"alert\">\n",
    "Il est possible d'écrire la boucle *for* réalisée précedemment en une seule ligne. Il faut vous habituer à lire et comprendre des codes différents qui donnent le même résultat.\n",
    "</div>"
   ]
  },
  {
   "cell_type": "code",
   "execution_count": null,
   "metadata": {
    "collapsed": true
   },
   "outputs": [],
   "source": [
    "Em_inst_2 = [Ec_inst_2[i]+Epp_inst_2[i] for i in range (len(t))]"
   ]
  },
  {
   "cell_type": "markdown",
   "metadata": {},
   "source": [
    "<div class=\"alert alert-success\" role=\"alert\">\n",
    "Il faut maintenant comparer les informations stockées dans Em_inst et Em_inst_2.\n",
    "</div>"
   ]
  },
  {
   "cell_type": "code",
   "execution_count": null,
   "metadata": {
    "collapsed": true
   },
   "outputs": [],
   "source": [
    "print(Em_inst)\n",
    "print(Em_inst_2)\n",
    "print(Em_inst==Em_inst_2)\n",
    "# == permet de comparer deux variables. Si elles sont identiques, le résultat est *True*. Dans le cas contraire, c'est *False*."
   ]
  },
  {
   "cell_type": "markdown",
   "metadata": {},
   "source": [
    "### Tracé graphique des énergies cinétiques, potentielles de pesanteur et mécanique en fonction du temps"
   ]
  },
  {
   "cell_type": "markdown",
   "metadata": {},
   "source": [
    "<div class=\"alert alert-info\" role=\"alert\">\n",
    "Nous allons afficher les valeurs des différentes grandeurs qui sont stockées dans la mémoire de Python comme si nous l'avions fait dans un tableur.\n",
    "</div>"
   ]
  },
  {
   "cell_type": "code",
   "execution_count": null,
   "metadata": {
    "collapsed": true
   },
   "outputs": [],
   "source": [
    "print(\"t(en s)\",\"\\t\",\"v (en m/s)\",\"\\t\",\"Ec (en J)\",\"\\t\",\"Epp (en J)\",\"\\t\",\"Em (en J)\")\n",
    "for i in range(len(t)):\n",
    "    print(\"{:.3f}\".format(t[i]),\"\\t\",\"\\t\",\"{:.3f}\".format(v_inst[i]),\"\\t\",\"\\t\",\"{:.3f}\".format(Ec_inst[i]),\"\\t\",\"\\t\",\"{:.3f}\".format(Epp_inst[i]),\"\\t\",\"\\t\",\"{:.3f}\".format(Em_inst[i]))"
   ]
  },
  {
   "cell_type": "markdown",
   "metadata": {},
   "source": [
    "<div class=\"alert alert-warning\" role=\"alert\">\n",
    "Compléter les lignes de code ci-dessous pour afficher les énergies en fonction du temps.<br>\n",
    "<br>\n",
    "<details>\n",
    "<summary>Aide</summary>\n",
    "<p>Les deux premiers paramètres de plt.plot sont les coordonnées des abscisses puis celles des ordonnées.</p>\n",
    "</details>\n",
    "<br>\n",
    "<details>\n",
    "<summary>Aide</summary>\n",
    "<p>Toutes les valeurs de l'énergie cinétique au point $M_{i}$ sont stockées dans la variable *Ec_inst*.<br>\n",
    "Toutes les valeurs de l'énergie potentielles de pesanteur au point $M_{i}$ sont stockées dans la variable *Epp_inst*.<br>\n",
    "Toutes les valeurs de l'énergie mécanique au point $M_{i}$ sont stockées dans la variable *Em_inst*.</p>\n",
    "</details>\n",
    "</div>"
   ]
  },
  {
   "cell_type": "code",
   "execution_count": null,
   "metadata": {
    "collapsed": true
   },
   "outputs": [],
   "source": [
    "'''Tracé de Ec=f(t)'''\n",
    "plt.plot(---A COMPLETER---,---A COMPLETER---, linestyle=\"-\" ,marker=\"x\" ,color=\"red\", markersize=\"10\",label=\"Ec\")\n",
    "                            # nuage de points,'none' points non reliés,'x' forme des points (o,-,+,s)\n",
    "                            # 'red' couleur (blue, green, cyan, magenta, yellow, black)\n",
    "                            # '10' taille des points\n",
    "                            # affiche la légende\n",
    "\n",
    "\n",
    "'''Tracé de Epp=f(t)'''\n",
    "plt.plot(---A COMPLETER---,---A COMPLETER---, linestyle=\"-\" ,marker=\"x\" ,color=\"green\", markersize=\"10\",label=\"Epp\")\n",
    "\n",
    "'''Tracé de Em=f(t)'''\n",
    "plt.plot(---A COMPLETER---,---A COMPLETER---, linestyle=\"-\" ,marker=\"x\" ,color=\"blue\", markersize=\"10\",label=\"Em\")\n",
    "\n",
    "plt.xlabel(\"---A COMPLETER---\")      # légende axe des abscisses\n",
    "plt.ylabel(\"---A COMPLETER---\")      # légende axe des ordonnées\n",
    "plt.legend()            # affiche la légende\n",
    "plt.title(\"---A COMPLETER---\")        # affiche un titre\n",
    "#plt.savefig('Energies en fonction du temps.png', dpi=200, transparent = False,bbox_inches='tight') # enregistre le graphique dans le dossier courant\n",
    "plt.show()"
   ]
  },
  {
   "cell_type": "markdown",
   "metadata": {
    "collapsed": true
   },
   "source": [
    "<center><font color=\"blue\" size=\"4\">Question 1 : Déterminer la variation d'énergie mécanique $\\Delta E_m$ au cours du déplacement total.<br>\n",
    "Question 2 : Faire le bilan des forces s'appliquant sur le système au cours du déplacement total.<br>\n",
    "Question 3 : En déduire le travail des forces non conservatives.<br>\n",
    "</font></center><br>\n",
    "<hr size=\"4\" color=\"blue\">"
   ]
  },
  {
   "cell_type": "markdown",
   "metadata": {
    "collapsed": true
   },
   "source": [
    "## Réinitialiser le fichier Jupyter<br>\n",
    "<div class=\"alert alert-info\" role=\"alert\">\n",
    "<center><img src=\"Jupyter_Kernel.jpg\"></center><br>\n",
    "<br>\n",
    "Pour exécuter le notebook Jupyter dans une autre situation, vous pouvez :<br>\n",
    "<ul><li>choisir *Restart & Clear Output* et exécuter les cellules une à une ;</li>\n",
    "<li>choisir *Restart & Run all* pour exécuter automatiquement toutes les cellules. <b>N'oubliez pas de changer le fichier à importer avant d'effectuer l'opération.</b></li></ul><br>\n",
    "<br>\n",
    "<center><img src=\"Jupyter_Kernel_Restart.jpg\"></center><br>\n"
   ]
  },
  {
   "cell_type": "code",
   "execution_count": null,
   "metadata": {
    "collapsed": true
   },
   "outputs": [],
   "source": []
  }
 ],
 "metadata": {
  "kernelspec": {
   "display_name": "Python 3",
   "language": "python",
   "name": "python3"
  },
  "language_info": {
   "codemirror_mode": {
    "name": "ipython",
    "version": 3
   },
   "file_extension": ".py",
   "mimetype": "text/x-python",
   "name": "python",
   "nbconvert_exporter": "python",
   "pygments_lexer": "ipython3",
   "version": "3.4.5"
  }
 },
 "nbformat": 4,
 "nbformat_minor": 2
}
