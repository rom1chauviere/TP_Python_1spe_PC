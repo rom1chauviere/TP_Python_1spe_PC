{
 "cells": [
  {
   "cell_type": "markdown",
   "metadata": {},
   "source": [
    "# <center>Caractéristique d'une pile</center>\n",
    "\n",
    "\n",
    "\n",
    "<div class=\"alert alert-info\" role=\"alert\">\n",
    "Un notebook Jupyter est composé de deux types de cellules :<br>\n",
    "<ul><li> des cellules contenant du <b>texte</b> qu'il est nécessaire <b>de lire pour suivre correctement les consignes</b> ;</li><br>\n",
    "<li>des cellules contenant du <b>code Python</b> qu'il est nécessaire <b>d'éxécuter dans l'ordre d'apparition</b>.</li></ul><br>\n",
    "<br>\n",
    "<b>Pour exécuter une cellule sélectionnée</b> (encadrée en vert), il faut cliquer :<br>\n",
    "<ul><li>sur le bouton \"Exécuter\" situé à côté de la cellule<br><img src=\"Jupyter_Executer.bis.jpg\"></li><br>\n",
    "<li>ou sur le bouton \"Exécuter\" dans le bandeau supérieur.\n",
    "<br>\n",
    "<center><img src=\"Jupyter_Executer.jpg\"></center><br></li></ul>\n",
    "</div>"
   ]
  },
  {
   "cell_type": "code",
   "execution_count": 1,
   "metadata": {
    "collapsed": true
   },
   "outputs": [],
   "source": [
    "#Exécuter cette ligne de code en suivant les indications ci-dessus.\n",
    "a=\"Hello World\""
   ]
  },
  {
   "cell_type": "code",
   "execution_count": 2,
   "metadata": {},
   "outputs": [
    {
     "name": "stdout",
     "output_type": "stream",
     "text": [
      "Hello World\n"
     ]
    }
   ],
   "source": [
    "#Exécuter cette ligne de code en suivant les indications ci-dessus.\n",
    "print(a)"
   ]
  },
  {
   "cell_type": "markdown",
   "metadata": {},
   "source": [
    "<div class=\"alert alert-info\" role=\"alert\">\n",
    "Sur la gauche d'une cellule contenant du code Python, il y a l'indication <b>Entrée [&#160;&#160;]</b><br>\n",
    "<ul><li><b>Entrée [&#160;&#160;]</b> signifie que la cellule n'a pas été exécutée ;</li><br>\n",
    "<li><b>Entrée [*]</b> signifie que la cellule est en cours d'exécution. Soit il faut une action de votre part (saisie d'une valeur dans un <b>Input</b>, soit il faut donc patienter quelques secondes pour que tout le code s'exécute ;</li><br>\n",
    "<li><b>Entrée [2]</b> signifie que la cellule a été exécutée au rang 2.</li></ul><br>\n",
    "<br>\n",
    "</div>\n",
    "<div class=\"alert alert-success\" role=\"alert\">\n",
    "<details>\n",
    "<summary><b>A LIRE (en cliquant sur la flèche à gauche)</b>: Explications pour sauvegarder ses modifications au fur et à mesure.</summary>\n",
    "<p>En cas d'inactivité prolongé (entre 5 et 10 min), le notebook Jupyter sera déconnecté.<br>\n",
    "<img src=\"Jupyter_deconnected.jpg\"><br>\n",
    "Pour éviter de perdre vos modifications de code, enregistrez régulièrement votre notebook dans votre navigateur.<br>\n",
    "<img src=\"Jupyter_save.jpg\"><br>\n",
    "Le message suivant s'affiche :\n",
    "<img src=\"Jupyter_save_2.jpg\"><br>\n",
    "En cas de déconnexion, vous devez réouvrir votre notebook puis vous pouvez charger votre sauvegarde.<br>\n",
    "<img src=\"Jupyter_open.jpg\"><br>\n",
    "Le message suivant s'affiche et vous devez cliquer sur \"OK\" :\n",
    "<img src=\"Jupyter_open_2.jpg\"><br>\n",
    "Vous devez exécuter toutes les cellules modifiées depuis le début. Pour le faire rapidement, il faut cliquer sur \"Restart & Run all\" dans le menu Kernel.<br>\n",
    "<img src=\"Jupyter_restart.jpg\"><br></p>\n",
    "Le message suivant s'affiche et vous devez cliquer sur \"Restart & Run All Cells\" :\n",
    "<img src=\"Jupyter_restart_2.jpg\"><br>\n",
    "</details>\n",
    "</div>\n",
    "\n",
    "<div class=\"alert alert-danger\" role=\"alert\">\n",
    "<center><font size=\"5\">Ne modifier que la partie du code contenant ---A COMPLETER---</font></center>\n",
    "</div>"
   ]
  },
  {
   "cell_type": "markdown",
   "metadata": {},
   "source": [
    "## Mesures expérimentales"
   ]
  },
  {
   "cell_type": "code",
   "execution_count": 3,
   "metadata": {
    "collapsed": true
   },
   "outputs": [],
   "source": [
    "U=[1.481,1.478,1.477,1.475,1.471,1.468,1.465,1.452,1.424,1.15,0.866,0.79] # tension aux bornes de la pile (en V)\n",
    "I=[0,1e-3,2e-3,3e-3,4e-3,6e-3,8e-3,19e-3,36e-3,333e-3,637e-3,720e-3] # intensité du courant électrique débitée par la pile (en A)\n",
    "#Rappel : 1 mA = 1e-3 A"
   ]
  },
  {
   "cell_type": "markdown",
   "metadata": {},
   "source": [
    "<div class=\"alert alert-success\" role=\"alert\">\n",
    "Il faut maintenant comprendre comment les informations sont stockées.\n",
    "</div>\n"
   ]
  },
  {
   "cell_type": "code",
   "execution_count": 4,
   "metadata": {},
   "outputs": [
    {
     "name": "stdout",
     "output_type": "stream",
     "text": [
      "Première valeur de chaque liste : 1.481 0\n"
     ]
    }
   ],
   "source": [
    "print(\"Première valeur de chaque liste :\",U[0],I[0])"
   ]
  },
  {
   "cell_type": "code",
   "execution_count": 5,
   "metadata": {},
   "outputs": [
    {
     "name": "stdout",
     "output_type": "stream",
     "text": [
      "Dernière valeur de chaque liste : 0.79 0.72\n"
     ]
    }
   ],
   "source": [
    "print(\"Dernière valeur de chaque liste :\",U[-1],I[-1])"
   ]
  },
  {
   "cell_type": "code",
   "execution_count": 6,
   "metadata": {},
   "outputs": [
    {
     "name": "stdout",
     "output_type": "stream",
     "text": [
      "Nombre de valeurs de la liste U : 12\n",
      "Nombre de valeurs de la liste I : 12\n"
     ]
    }
   ],
   "source": [
    "print(\"Nombre de valeurs de la liste U :\",len(U))\n",
    "print(\"Nombre de valeurs de la liste I :\",len(I))"
   ]
  },
  {
   "cell_type": "markdown",
   "metadata": {},
   "source": [
    "<div class=\"alert alert-danger\" role=\"alert\">\n",
    "Vérifier que les deux listes ont bien le même nombre de valeurs.\n",
    "</div>"
   ]
  },
  {
   "cell_type": "markdown",
   "metadata": {},
   "source": [
    "## Tracé de la caractéristique tension-intensité de la pile U = f(I)"
   ]
  },
  {
   "cell_type": "code",
   "execution_count": 7,
   "metadata": {
    "collapsed": true
   },
   "outputs": [],
   "source": [
    "import matplotlib.pyplot as plt\n",
    "\"\"\"\n",
    "Fonction générant le nuage de points y en fonction de x\n",
    "Entrées : coordonnées de x, coordonnées de y, titre abscisse, titre ordonnée, titre graphique\n",
    "Résultat : nuage de points y en fonction de x avec affichage du point Mi\n",
    "\"\"\"\n",
    "def nuagedepoints(x,y,xtitle,ytitle,title):\n",
    "    plt.rcParams['figure.figsize'] = [10, 10]\n",
    "                            # taille de l'affichage du graphique\n",
    "    plt.plot(x, y, linestyle=\"none\" ,marker=\"x\" ,color=\"red\", markersize=\"10\",label=\"nuage de points\")\n",
    "                            # nuage de points,'none' points non reliés,'x' forme des points (o,-,+,s)\n",
    "                            # 'red' couleur (blue, green, cyan, magenta, yellow, black)\n",
    "                            # '10' taille des points\n",
    "                            # affiche la légende\n",
    "    plt.xlim(0,1.1*max(x))\n",
    "    plt.ylim(0,1.1*max(y))\n",
    "    plt.xlabel(xtitle)      # légende axe des abscisses\n",
    "    plt.ylabel(ytitle)      # légende axe des ordonnées\n",
    "    plt.legend()            # affiche la légende\n",
    "    plt.title(title)        # affiche un titre"
   ]
  },
  {
   "cell_type": "markdown",
   "metadata": {},
   "source": [
    "<div class=\"alert alert-warning\" role=\"alert\">\n",
    "Après avoir compris le fonctionnement de la fonction <font color=red><i>nuagedepoints</i></font>, compléter la 1ère ligne de code ci-dessous pour afficher le graphique représentant la caractéristique tension-intensité de la pile.\n",
    "<br>\n",
    "<br>\n",
    "<details>\n",
    "<summary>Aide n°1</summary>\n",
    "<p>Il est nécessaire de bien lire la description de la fonction et plus particulièrement la ligne *Entrée*.</p>\n",
    "</details>\n",
    "<br>\n",
    "<details>\n",
    "<summary>Aide n°2</summary>\n",
    "<p>Les coordonnées des abcisses sont stockées dans une variable sous forme de liste.  Il en est de même pour les coordonnées des ordonnées. Si besoin, revoir les *Print* effectués au début du programme.</p>\n",
    "</details>\n",
    "<br>\n",
    "<details>\n",
    "<summary>Aide n°3</summary>\n",
    "<p>Les titres correspondent à du texte. Il faut donc le mettre entre quote ('') ou guillements(\"\")</p>\n",
    "</details>\n",
    "</div>"
   ]
  },
  {
   "cell_type": "code",
   "execution_count": 8,
   "metadata": {},
   "outputs": [
    {
     "data": {
      "image/png": "[encoded data removed]",
      "text/plain": [
       "<Figure size 720x720 with 1 Axes>"
      ]
     },
     "metadata": {},
     "output_type": "display_data"
    }
   ],
   "source": [
    "nuagedepoints(I,U,\"intensité (en A)\",\"tension (en V)\",\"Caractéristique tension-intensité d'une pile\")\n",
    "\n",
    "plt.show() # affiche le graphique"
   ]
  },
  {
   "cell_type": "markdown",
   "metadata": {},
   "source": [
    "### Modélisation \"manuelle\" de l'expérience"
   ]
  },
  {
   "cell_type": "code",
   "execution_count": 9,
   "metadata": {
    "collapsed": true
   },
   "outputs": [],
   "source": [
    "\"\"\"\n",
    "Fonction générant, jusqu'à l'abscisse xmax, une fonction affine y=f(x) de coefficient directeur a et d'ordonnée à l'origine b\n",
    "Entrées : coefficient directeur a, ordonnée à l'origine b, valeur maximale pour les abscisses\n",
    "Résultat : fonction affine de coefficient directeur a jusqu'à l'abscisse xmax\n",
    "\"\"\"\n",
    "\n",
    "def modele_affine(a,b,xmax):\n",
    "    abscisses=[] # création de la liste des abscisses\n",
    "    ordonnees=[] # création de la liste des ordonnées\n",
    "    x=0 # première valeur des abscisses\n",
    "    while x<xmax :\n",
    "        y=a*x+b # calcul de l'image (valeur de y) de la fonction affine\n",
    "        abscisses.append(x) # la valeur de x est ajoutée à la fin de la liste des abscisses\n",
    "        ordonnees.append(y) # la valeur de y est ajoutée à la fin de la liste des ordonnées\n",
    "        x=x+xmax/1e3 # modification de la valeur de x correspondant au millième de la valeur de xmax\n",
    "    plt.plot(abscisses,ordonnees,linestyle='-',linewidth=\"1\",color=\"blue\",label=\"modèle : y = {:.3f} * x + {:.3f}\".format(a,b))\n",
    "    #\"-\" forme de la courbe, \"1\" épaisseur de la courbe,\n",
    "    #\"blue\" couleur (red, green, cyan, magenta, yellow, black),\n",
    "    # affiche la légende contenant les valeurs de a et b avec 2 chiffres après la virgule\n",
    "    plt.legend()"
   ]
  },
  {
   "cell_type": "markdown",
   "metadata": {},
   "source": [
    "<div class=\"alert alert-warning\" role=\"alert\">\n",
    "Après avoir compris le fonctionnement de la fonction <font color=red><i>modele_affine</i></font>, compléter les lignes de code ci-dessous pour tracer le nuage de points et son modèle.\n",
    "<br>\n",
    "<br>\n",
    "<details>\n",
    "<summary>Aide n°1</summary>\n",
    "<p>Repérer la valeur de l'ordonnée à l'origine b.</p>\n",
    "</details><br>\n",
    "<details>\n",
    "<summary>Aide n°2</summary>\n",
    "<p>Modifier petit à petit le coeffcient directeur.</p>\n",
    "</details>\n",
    "</div>"
   ]
  },
  {
   "cell_type": "code",
   "execution_count": 10,
   "metadata": {},
   "outputs": [
    {
     "data": {
      "image/png": "[encoded data removed]",
      "text/plain": [
       "<Figure size 720x720 with 1 Axes>"
      ]
     },
     "metadata": {},
     "output_type": "display_data"
    }
   ],
   "source": [
    "nuagedepoints(I,U,\"intensité (en A)\",\"tension (en V)\",\"Caractéristique tension-intensité d'une pile\")\n",
    "modele_affine(-1,1.481,0.8)\n",
    "\n",
    "plt.show() # affiche le graphique"
   ]
  },
  {
   "cell_type": "markdown",
   "metadata": {
    "collapsed": true
   },
   "source": [
    "### Régression linéaire du nuage de points \"tension en fonction de l'intensité\""
   ]
  },
  {
   "cell_type": "code",
   "execution_count": 11,
   "metadata": {
    "collapsed": true
   },
   "outputs": [],
   "source": [
    "import numpy as np\n",
    "\n",
    "\"\"\"\n",
    "Fonction effectuant la régression linéaire d'un nuage de points \n",
    "Entrées : coordonnées de x, coordonnées de y\n",
    "Résultat : liste contenant le coefficient directeur a et l'ordonnée à l'origine b\n",
    "\"\"\"\n",
    "\n",
    "def regression(x,y):\n",
    "    return np.polyfit(x,y,1) # création de la liste des abscisses"
   ]
  },
  {
   "cell_type": "markdown",
   "metadata": {},
   "source": [
    "<div class=\"alert alert-warning\" role=\"alert\">\n",
    "Après avoir compris le fonctionnement de la fonction <font color=red><i>regression</i></font>, compléter la ligne de code ci-dessous pour afficher le coefficient directeur a et l'ordonnée à l'origine b.\n",
    "<br>\n",
    "<br>\n",
    "<details>\n",
    "<summary>Aide n°1</summary>\n",
    "<p>Les coordonnées des abcisses sont stockées dans une variable sous forme de liste. Il en est de même pour les coordonnées des ordonnées. Si besoin, revoir les *Print* effectués au début du programme.</p>\n",
    "</details><br>\n",
    "<details>\n",
    "<summary>Aide n°2</summary>\n",
    "<p>tension en fonction de l'intensité peut s'écrire U=f(I)</p>\n",
    "</details>\n",
    "</div>"
   ]
  },
  {
   "cell_type": "code",
   "execution_count": 12,
   "metadata": {},
   "outputs": [
    {
     "name": "stdout",
     "output_type": "stream",
     "text": [
      "Le coefficient directeur a vaut -0.954 ohms.\n",
      "L'ordonnée à l'origine b vaut 1.474 V.\n"
     ]
    }
   ],
   "source": [
    "coefficients=regression(I,U)\n",
    "\n",
    "print(\"Le coefficient directeur a vaut\",\"%.3f\"%coefficients[0],\"ohms.\")\n",
    "print(\"L'ordonnée à l'origine b vaut\",\"%.3f\"%coefficients[1],\"V.\")"
   ]
  },
  {
   "cell_type": "markdown",
   "metadata": {},
   "source": [
    "<div class=\"alert alert-warning\" role=\"alert\">\n",
    "En utilisant les fonctions vues précédemment, compléter les lignes de code ci-dessous pour tracer le nuage de points et son modèle en utilisant les valeurs de la régression.\n",
    "<br>\n",
    "<br>\n",
    "<details>\n",
    "<summary>Aide n°1</summary>\n",
    "<p>Il faut tracer le nuage de points.</p>\n",
    "</details><br>\n",
    "<details>\n",
    "<summary>Aide n°2</summary>\n",
    "<p>Il faut tracer le modèle en utilisant les coefficients calculés précédemment (coefficients[0] et coefficients[1]).</p>\n",
    "</details>\n",
    "</div>"
   ]
  },
  {
   "cell_type": "code",
   "execution_count": 13,
   "metadata": {},
   "outputs": [
    {
     "data": {
      "image/png": "[encoded data removed]",
      "text/plain": [
       "<Figure size 720x720 with 1 Axes>"
      ]
     },
     "metadata": {},
     "output_type": "display_data"
    }
   ],
   "source": [
    "nuagedepoints(I,U,\"intensité (en A)\",\"tension (en V)\",\"Caractéristique tension-intensité d'une pile\")\n",
    "modele_affine(coefficients[0],coefficients[1],0.8)\n",
    "\n",
    "plt.show()"
   ]
  },
  {
   "cell_type": "markdown",
   "metadata": {},
   "source": [
    "<div class=\"alert alert-danger\" role=\"alert\">\n",
    "Expliquer pourquoi la pile peut être modélisée par l'association en série d'une source idéale de tension de force électromotrice E et d'une résistance interne r. Vous pourrez vous aider d'un schéma électrique.\n",
    "</div>"
   ]
  },
  {
   "cell_type": "code",
   "execution_count": null,
   "metadata": {
    "collapsed": true
   },
   "outputs": [],
   "source": []
  }
 ],
 "metadata": {
  "kernelspec": {
   "display_name": "Python 3",
   "language": "python",
   "name": "python3"
  },
  "language_info": {
   "codemirror_mode": {
    "name": "ipython",
    "version": 3
   },
   "file_extension": ".py",
   "mimetype": "text/x-python",
   "name": "python",
   "nbconvert_exporter": "python",
   "pygments_lexer": "ipython3",
   "version": "3.4.5"
  }
 },
 "nbformat": 4,
 "nbformat_minor": 2
}
