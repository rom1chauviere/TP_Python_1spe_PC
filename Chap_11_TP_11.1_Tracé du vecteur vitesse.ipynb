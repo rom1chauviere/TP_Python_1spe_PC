{
 "cells": [
  {
   "cell_type": "markdown",
   "metadata": {},
   "source": [
    "# <center>Tracé du vecteur vitesse</center>"
   ]
  },
  {
   "cell_type": "markdown",
   "metadata": {},
   "source": [
    "<div class=\"alert alert-info\" role=\"alert\">\n",
    "Un notebook Jupyter est composé de deux types de cellules :<br>\n",
    "<ul><li> des cellules contenant du <b>texte</b> qu'il est nécessaire <b>de lire pour suivre correctement les consignes</b> ;</li><br>\n",
    "<li>des cellules contenant du <b>code Python</b> qu'il est nécessaire <b>d'éxécuter dans l'ordre d'apparition</b>.</li></ul><br>\n",
    "<br>\n",
    "<b>Pour exécuter une cellule sélectionnée</b> (encadrée en vert), il faut cliquer :<br>\n",
    "<ul><li>sur le bouton \"Exécuter\" situé à côté de la cellule<br><img src=\"Jupyter_Executer.bis.jpg\"></li><br>\n",
    "<li>ou sur le bouton \"Exécuter\" dans le bandeau supérieur.\n",
    "<br>\n",
    "<center><img src=\"Jupyter_Executer.jpg\"></center><br></li></ul>\n",
    "</div>\n",
    "<div class=\"alert alert-warning\">\n",
    "<b>Travail à faire : </b> Exécuter cette ligne de code en suivant les indications ci-dessus. Du texte est affecté à la variable \"a\".\n",
    "</div>"
   ]
  },
  {
   "cell_type": "code",
   "execution_count": null,
   "metadata": {},
   "outputs": [],
   "source": [
    "a=\"Hello World\""
   ]
  },
  {
   "cell_type": "markdown",
   "metadata": {},
   "source": [
    "<div class=\"alert alert-info\" role=\"alert\">\n",
    "Sur la gauche d'une cellule contenant du code Python, il y a l'indication <b>Entrée [&#160;&#160;]</b><br>\n",
    "<ul><li><b>Entrée [&#160;&#160;]</b> signifie que la cellule n'a pas été exécutée ;</li><br>\n",
    "<li><b>Entrée [*]</b> signifie que la cellule est en cours d'exécution. Soit il faut une action de votre part (saisie d'une valeur dans un <b>Input</b>, soit il faut donc patienter quelques secondes pour que tout le code s'exécute) ;</li><br>\n",
    "<li><b>Entrée [1]</b> signifie que la cellule a été exécutée au rang 1.</li></ul><br>\n",
    "<br>\n",
    "</div>\n",
    "<div class=\"alert alert-warning\">\n",
    "<b>Travail à faire : </b> Exécuter cette ligne de code qui permet d'afficher la valeur de la variable \"a\".\n",
    "</div>"
   ]
  },
  {
   "cell_type": "code",
   "execution_count": null,
   "metadata": {},
   "outputs": [],
   "source": [
    "print(a)"
   ]
  },
  {
   "cell_type": "markdown",
   "metadata": {},
   "source": [
    "<div class=\"alert alert-success\" role=\"alert\">\n",
    "<details>\n",
    "<summary><b>A LIRE (en cliquant sur la flèche à gauche)</b>: Explications pour sauvegarder vos modifications au fur et à mesure.</summary>\n",
    "<p>En cas d'inactivité prolongé (entre 5 et 10 min), le notebook Jupyter sera déconnecté.<br>\n",
    "<img src=\"Jupyter_deconnected.jpg\"><br>\n",
    "Pour éviter de perdre vos modifications de code, enregistrez régulièrement votre notebook dans votre navigateur.<br>\n",
    "<img src=\"Jupyter_save.jpg\"><br>\n",
    "Le message suivant s'affiche :\n",
    "<img src=\"Jupyter_save_2.jpg\"><br>\n",
    "En cas de déconnexion, vous devez réouvrir votre notebook puis vous pouvez charger votre sauvegarde.<br>\n",
    "<img src=\"Jupyter_open.jpg\"><br>\n",
    "Le message suivant s'affiche et vous devez cliquer sur \"OK\" :\n",
    "<img src=\"Jupyter_open_2.jpg\"><br>\n",
    "Vous devez exécuter toutes les cellules modifiées depuis le début. Pour le faire rapidement, il faut cliquer sur \"Restart & Run all\" dans le menu Kernel.<br>\n",
    "<img src=\"Jupyter_restart.jpg\"><br></p>\n",
    "Le message suivant s'affiche et vous devez cliquer sur \"Restart & Run All Cells\" :\n",
    "<img src=\"Jupyter_restart_2.jpg\"><br>\n",
    "</details>\n",
    "</div>\n",
    "\n",
    "<div class=\"alert alert-danger\" role=\"alert\">\n",
    "<center><font size=\"5\">Ne modifier que la partie du code contenant ---A COMPLETER---</font></center>\n",
    "</div>"
   ]
  },
  {
   "cell_type": "markdown",
   "metadata": {},
   "source": [
    "## Pointage d'une vidéo<br>\n",
    "Le pointage de la vidéo \"Lancer franc\" a été réalisé avec Aviméca.<br>\n",
    "Letableau de mesures a été enregistré au format texte sous le nom <i>pointage.txt</i> avec le \"Point virgule\" comme séparateur des données.<br><br>\n",
    "## Importation des mesures\n",
    "<div class=\"alert alert-success\" role=\"alert\">\n",
    "Exécuter le bloc ci-dessous (aucune compréhension du code n'est nécessaire).\n",
    "</div>"
   ]
  },
  {
   "cell_type": "code",
   "execution_count": null,
   "metadata": {},
   "outputs": [],
   "source": [
    "#caractère séparateur du csv -peut être une virgule, un point-virgule ou une tabulation noté \\t\n",
    "sep = \";\"\n",
    "#nombre de lignes d'entete\n",
    "entete = 3\n",
    "\n",
    "#choix du fichier à importer (ajouter ou supprimer le #)\n",
    "name = 'pointage.txt'\n",
    "\n",
    "f = open(name,\"r\") # r= read, w = write\n",
    "data = f.readlines() #on lit toutes les lignes et on met ça dans une liste -un élément par ligne-\n",
    "\n",
    "data = data[entete :] #on supprime les lignes d'en-tête qui ne nous intéressent pas\n",
    "\n",
    "t = []\n",
    "x = []\n",
    "y = []\n",
    "for ligne in data:\n",
    "    ligne = ligne.replace(\",\" , \".\") #change les virgules en point => format numérique différent sur aviméca et sur python\n",
    "    ligne = ligne.strip().split(sep) #on sépare les différents élément en utilisant le caractère séparateur défini\n",
    "    ligne = list(map(float,ligne)) #on convertit chaque élément en float\n",
    "    #on rentre les valeurs dans les listes adaptées\n",
    "    t.append(ligne[0])\n",
    "    x.append(ligne[1])\n",
    "    y.append(ligne[2])\n",
    "print(\"Le fichier a bien été importé\")"
   ]
  },
  {
   "cell_type": "markdown",
   "metadata": {},
   "source": [
    "<div class=\"alert alert-success\" role=\"alert\">\n",
    "Exécuter le bloc ci-dessous pour comprendre comment les informations sont stockées</div>"
   ]
  },
  {
   "cell_type": "code",
   "execution_count": null,
   "metadata": {},
   "outputs": [],
   "source": [
    "print(t)"
   ]
  },
  {
   "cell_type": "markdown",
   "metadata": {},
   "source": [
    "<div class=\"alert alert-info\">\n",
    "<b>Travail à faire : </b> À l'aide des valeurs de t affichées ci-dessus, en déduire la durée $\\Delta t$ entre deux points consécutifs\n",
    "<br>\n",
    "</div>\n",
    "<br>\n",
    "<div class=\"alert alert-success\" role=\"alert\">\n",
    "Exécuter le bloc ci-dessous pour afficher les coordonnées du premier point.</div>"
   ]
  },
  {
   "cell_type": "code",
   "execution_count": null,
   "metadata": {},
   "outputs": [],
   "source": [
    "print(\"Coordonnées du premier point :\",t[0],x[0],y[0])"
   ]
  },
  {
   "cell_type": "markdown",
   "metadata": {},
   "source": [
    "<div class=\"alert alert-success\" role=\"alert\">\n",
    "Exécuter le bloc ci-dessous pour afficher les coordonnées du dernier point.</div>"
   ]
  },
  {
   "cell_type": "code",
   "execution_count": null,
   "metadata": {},
   "outputs": [],
   "source": [
    "print(\"Coordonnées du dernier point :\",t[-1],x[-1],y[-1])"
   ]
  },
  {
   "cell_type": "markdown",
   "metadata": {},
   "source": [
    "## Tracé de la trajectoire du système y = f(x)\n",
    "\n",
    "<div class=\"alert alert-success\" role=\"alert\">\n",
    "Exécuter le bloc ci-dessous aprés avoir lu la description de la fonction (les 3 lignes en rouges).</div>"
   ]
  },
  {
   "cell_type": "code",
   "execution_count": null,
   "metadata": {},
   "outputs": [],
   "source": [
    "import matplotlib.pyplot as plt\n",
    "\n",
    "\"\"\"\n",
    "Fonction générant le nuage de points \"ordonnée en fonction d'abscisse\"\n",
    "Entrées : coordonnées des abscisses, coordonnées des ordonnées, titre abscisse, titre ordonnée, titre graphique\n",
    "Résultat : nuage de points \"ordonnée en fonction d'abscisse\" ou \"ordonnée = f(abscisse)\" avec affichage du point Mi\n",
    "\"\"\"\n",
    "def nuagedepoints(abscisses,ordonnees,abscisse_title,ordonnee_title,title):\n",
    "    fig = plt.figure(figsize=(10,10))\n",
    "                            # taille de l'affichage du graphique\n",
    "    ax = fig.add_subplot(1, 1, 1)\n",
    "    ax.plot(abscisses, ordonnees, linestyle=\"none\" ,marker=\"x\" ,color=\"red\", markersize=\"10\",label=\"nuage de points\")\n",
    "                            # nuage de points,'none' points non reliés,'x' forme des points (o,-,+,s)\n",
    "                            # 'red' couleur (blue, green, cyan, magenta, yellow, black)\n",
    "                            # '10' taille des points\n",
    "                            # affiche la légende\n",
    "    ax.axis('equal')       # repère orthonormé\n",
    "                            # boucle générant l'écriture \"Mi\" à proximité du point correspondant\n",
    "    df=max(max(abscisses)-min(abscisses),max(ordonnees)-min(ordonnees))/20\n",
    "    for i in range(len(abscisses)):\n",
    "        numero=str(i)\n",
    "        table = str.maketrans({str(j):chr(0x2080 + j) for j in range(10)})\n",
    "        indice=numero.translate(table) \n",
    "        plt.text(abscisses[i],ordonnees[i]+df,'M'+indice,color='black', fontsize=12,horizontalalignment='center', verticalalignment='center')\n",
    "    plt.xlabel(abscisse_title,ha='right',fontstyle='italic',x=1.0)\n",
    "    plt.ylabel(ordonnee_title,fontstyle='italic',rotation=0,ha='right',va='top',y=1.0)\n",
    "    ax.spines['right'].set_color('none')\n",
    "    ax.spines['top'].set_color('none')\n",
    "    ax.xaxis.set_ticks_position('bottom')\n",
    "    ax.spines['bottom'].set_position(('data',0))\n",
    "    ax.yaxis.set_ticks_position('left')\n",
    "    ax.spines['left'].set_position(('data',0))\n",
    "    #plt.legend()            # affiche la légende\n",
    "    ax.set_ylim(0,4.7)\n",
    "    plt.title(title)        # affiche un titre\n"
   ]
  },
  {
   "cell_type": "markdown",
   "metadata": {},
   "source": [
    "<div class=\"alert alert-warning\">\n",
    "<b>Travail à faire : </b> Compléter la ligne de code ci-dessous, en tenant compte des paramètres de la fonction <font color=red><i>nuagedepoints</i></font>, pour afficher la trajectoire du ballon $y=f(x)$.\n",
    "<br>\n",
    "<br>\n",
    "<details>\n",
    "<summary>Aide n°1</summary>\n",
    "<p>Les coordonnées des abscisses sont stockées dans une liste nommée $x$.Les coordonnées des ordonnées sont stockées dans une liste nommée $y$.</p>\n",
    "</details>\n",
    "<br>\n",
    "<details>\n",
    "<summary>Aide n°2</summary>\n",
    "<p>Les titres doivent être écrits entre guillemets.</p>\n",
    "</details>\n",
    "<br>\n",
    "</div>\n"
   ]
  },
  {
   "cell_type": "code",
   "execution_count": null,
   "metadata": {
    "scrolled": false
   },
   "outputs": [],
   "source": [
    "nuagedepoints(---A COMPLETER---) \n",
    "\n",
    "plt.show() # affiche le graphique"
   ]
  },
  {
   "cell_type": "markdown",
   "metadata": {},
   "source": [
    "<div class=\"alert alert-danger\">\n",
    "Appeler pour obtenir l'impression de la chronophotographie.<br>\n",
    "</div>\n",
    "\n"
   ]
  },
  {
   "cell_type": "markdown",
   "metadata": {},
   "source": [
    "## Définition du vecteur vitesse instantanée approchée à chaque date t \n",
    "<br>\n",
    "Le vecteur vitesse instantanée approchée au point $M_{i}$ à la date $t_{i}$, noté $\\vec v_{i}$ est assimilé au vecteur vitesse myenne obtenu pour une durée $\\Delta{t}$ extrêmement courte. Il s'écrit alors :<br>\n",
    "<center>$\\vec v_{i}$ $\\approx$ $\\vec v_{i \\space i+1}$ = $\\frac{\\overrightarrow {M_{i}M_{i+1}}}{\\Delta{t}}$</center><br>\n",
    "<br>\n",
    "Le vecteur vitesse instantanée approchée $\\vec v_{i}$ a pour caractéristiques :<br>\n",
    "<ul><li> point d'application : $M_{i}$</li><br>\n",
    "<li> direction : droite ($M_{i}M_{i+1}$)</li><br>\n",
    "<li> sens : de $M_{i}$ vers $M_{i+1}$</li><br>\n",
    "<li> norme : $v_{i}$ = $\\frac{M_{i}M_{i+1}}{\\Delta{t}}$</li></ul><br>\n",
    "<br>\n",
    "\n",
    "### Exercice 1 : Tracé du vecteur vitesse instantanée approchée $\\vec v_{0}$ avec Python\n",
    "<div class=\"alert alert-success\" role=\"alert\">\n",
    "Exécuter le bloc ci-dessous aprés avoir lu la description de la fonction (les 3 lignes en rouges).</div>"
   ]
  },
  {
   "cell_type": "code",
   "execution_count": null,
   "metadata": {},
   "outputs": [],
   "source": [
    "\"\"\"\n",
    "Fonction générant la représentation du vecteur vitesse instantanée approchée au point Mi de coordonnées (xi,yi)\n",
    "Entrées : oordonnées des abscisses du point M, coordonnées des ordonnées du point M, dates t, valeur de i, échelle\n",
    "Résultat : vecteur vitesse instantanée approchée au point Mi\n",
    "\"\"\"\n",
    "def vecteur_vitesse_approchee (abscisses,ordonnees,dates,value_i,echelle):\n",
    "    # pour agrandir la longueur du vecteur représentant le vecteur vitesse, diminuer la valeur de l'échelle\n",
    "    x=abscisses\n",
    "    y=ordonnees\n",
    "    t=dates\n",
    "    i=value_i\n",
    "    vx=(x[i+1]-x[i])/(t[i+1]-t[i])\n",
    "    vy=(y[i+1]-y[i])/(t[i+1]-t[i])\n",
    "    plt.quiver(x[i], y[i] ,vx, vy,scale_units='xy',angles='xy', scale=echelle, color='blue')\n",
    "    numero=str(i)\n",
    "    table = str.maketrans({str(j):chr(0x2080 + j) for j in range(10)})\n",
    "    indice=numero.translate(table)\n",
    "    df=max(max(x)-min(x),max(y)-min(y))/20\n",
    "    plt.text(x[i]+vx/(2*echelle),y[i]+vy/(2*echelle)-df,r\"$\\vec v$\"+indice, color='blue',fontsize=20,\\\n",
    "    horizontalalignment='center', verticalalignment='center')\n",
    "    plt.text(min(min(x),min(y))+5*df,min(min(x),min(y))-5*df,'Echelle vitesse : 1,0 cm $\\Leftrightarrow$ ..... m/s',\\\n",
    "    color='blue',fontsize=20)    "
   ]
  },
  {
   "cell_type": "markdown",
   "metadata": {},
   "source": [
    "<div class=\"alert alert-warning\">\n",
    "<b>Travail à faire : </b> Compléter la ligne de code ci-dessous, en tenant compte des paramètres de la fonction <font color=red><i>vecteur_vitesse_approchee</i></font>, pour afficher le tracé du vecteur vitesse instantanée approchée $\\vec v_{0}$.\n",
    "<br>\n",
    "<br>\n",
    "<details>\n",
    "<summary>Aide n°1</summary>\n",
    "<p>Les coordonnées des abscisses sont stockées dans une liste nommée $x$.Les coordonnées des ordonnées sont stockées dans une liste nommée $y$.</p>\n",
    "</details>\n",
    "<br>\n",
    "<details>\n",
    "<summary>Aide n°2</summary>\n",
    "<p>Les dates sont stockées dans une liste nommée $t$.</p>\n",
    "</details>\n",
    "<br>\n",
    "<details>\n",
    "<summary>Aide n°3</summary>\n",
    "    <p>Pour le vecteur vitesse instantanée approchée $\\overrightarrow{v_0}$, la valeur de i vaut $0$. </p>\n",
    "</details>\n",
    "<br>\n",
    "</div>"
   ]
  },
  {
   "cell_type": "code",
   "execution_count": null,
   "metadata": {},
   "outputs": [],
   "source": [
    "nuagedepoints(x,y,'x (en m)','y (en m)','')\n",
    "\n",
    "# choisir une échelle égale à 4\n",
    "vecteur_vitesse_approchee(---A COMPLETER---)\n",
    "\n",
    "\n",
    "\n",
    "plt.show()"
   ]
  },
  {
   "cell_type": "markdown",
   "metadata": {},
   "source": [
    "### Exercice 2 : Calcul de la norme du vecteur vitesse instantanée approchée $v_{0}$  avec Python\n",
    "\n",
    "<div class=\"alert alert-success\" role=\"alert\">\n",
    "Exécuter le bloc ci-dessous aprés avoir lu la description de la fonction (les 3 lignes en rouges).</div>"
   ]
  },
  {
   "cell_type": "code",
   "execution_count": null,
   "metadata": {},
   "outputs": [],
   "source": [
    "\"\"\"\n",
    "Fonction générant la norme du vecteur vitesse instantanée approchée au point Mi\n",
    "Entrées : coordonnées des abscisses du point M, coordonnées des ordonnées du point M, dates t, valeur de i\n",
    "Résultat : norme du vecteur vitesse instantanée approchée vi au point Mi\n",
    "\"\"\"\n",
    "from math import sqrt # sqrt = racine carrée\n",
    "\n",
    "def norme_vecteur_vitesse_approchee(abscisses,ordonnees,dates,value_i):\n",
    "    x=abscisses\n",
    "    y=ordonnees\n",
    "    t=dates\n",
    "    i=value_i\n",
    "    vx=(x[i+1]-x[i])/(t[i+1]-t[i])\n",
    "    vy=(y[i+1]-y[i])/(t[i+1]-t[i])\n",
    "    return sqrt(vx**2+vy**2) # vx**2 correspond à vx²"
   ]
  },
  {
   "cell_type": "markdown",
   "metadata": {},
   "source": [
    "<div class=\"alert alert-warning\">\n",
    "<b>Travail à faire : </b> Compléter les lignes de code ci-dessous, en tenant compte des paramètres de la fonction <font color=red><i>norme_vecteur_vitesse_approchee</i></font>, pour afficher la norme du vecteur vitesse instantanée approchée $v_{0}=||\\vec v_{0}||$.\n",
    "<br>\n",
    "<br>\n",
    "<details>\n",
    "<summary>Aide n°1</summary>\n",
    "<p>Les coordonnées des abscisses sont stockées dans une liste nommée $x$.Les coordonnées des ordonnées sont stockées dans une liste nommée $y$.</p>\n",
    "</details>\n",
    "<br>\n",
    "<details>\n",
    "<summary>Aide n°2</summary>\n",
    "<p>Les dates sont stockées dans une liste nommée $t$.</p>\n",
    "</details>\n",
    "<br>\n",
    "<details>\n",
    "<summary>Aide n°3</summary>\n",
    "    <p>Pour le vecteur vecteur instantanée approchée $\\overrightarrow{v_v}$, la valeur de i vaut $v$. </p>\n",
    "</details>\n",
    "<br>\n",
    "\n",
    "</div>"
   ]
  },
  {
   "cell_type": "code",
   "execution_count": null,
   "metadata": {},
   "outputs": [],
   "source": [
    "v = norme_vecteur_vitesse_approchee(---A COMPLETER---)\n",
    "\n",
    "print(\"Au point M0, la norme du vecteur vitesse instantanée approchée vaut v0 =\",\"{:.3f}\".format(v),\" m/s.\" )\n",
    "        # affiche la valeur de v avec 3 décimales (3f = 3 float)"
   ]
  },
  {
   "cell_type": "markdown",
   "metadata": {},
   "source": [
    "### Exercice 3 : Calcul de la norme du vecteur vitesse instantanée approchée $v_{0}$ à partir de la chronophotographie imprimée\n",
    "<br>\n",
    "<div class=\"alert alert-warning\">\n",
    "<b>Travail à faire : </b> <ul><li>Etape n°1 : Déterminer l'échelle des distances grâce aux axes</li><br>\n",
    "<li>Etape n°2 : Ecrire l'échelle des distances sous la forme \"<i>échelle des distances : ... cm $\\Leftrightarrow$ 4,0 m</i>\"</li><br>\n",
    "<li>Etape n°3 : Mesurer le segment [$M_{0}M_{1}$] sur le papier et calculer la longueur réelle $M_{0}M_{1}$</li><br>\n",
    "<li>Etape n°4 : Calculer la norme : $v_{0}$ = $\\frac{M_{0}M_{1}}{\\Delta{t}}$</li></ul><br><br>\n",
    "    <b>Votre résultat est-il proche de celui calculé à l'aide de Python ?</b><br><br>\n",
    "</div>\n"
   ]
  },
  {
   "cell_type": "markdown",
   "metadata": {},
   "source": [
    "### Exercice 4 : Tracé du vecteur vitesse instantanée approchée $\\vec v_{0}$ sur la chronophotographie imprimée\n",
    "<br>\n",
    "<div class=\"alert alert-warning\">\n",
    "<b>Travail à faire : </b> <ul><li>Etape n°1 : Déterminer une échelle des vitesses par rapport à la norme calculée</li><br>\n",
    "<li>Etape n°2 : Ecrire l'échelle des vitesses sous la forme \"<i>échelle des vitesses : 1,0 cm $\\Leftrightarrow$ 2,0 m/s</i>\"</li><br>\n",
    "<li>Etape n°3 : Calculer la longueur du vecteur $\\vec v_{0}$ à l'aide de votre échelle</li><br>\n",
    "<li>Etape n°4 : Sur le papier, tracer au crayon de papier la droite ($M_{0}M_{1}$) en la prolongeant du côté de $M_{1}$</li><br>\n",
    "<li>Etape n°5 : Tracer le vecteur $\\vec v_{0}$ en partant du point $M_{0}$</li></ul><br>\n",
    "</div>\n"
   ]
  },
  {
   "cell_type": "markdown",
   "metadata": {},
   "source": [
    "### Exercice 5 : Ecrire une boucle permettant de tracer l'ensemble des vecteurs vitesse instantanée approchée $\\vec v_{i}$ à l'aide de Python\n",
    "\n",
    "<br>\n",
    "<div class=\"alert alert-warning\">\n",
    "<b>Travail à faire : </b> Compléter la boucle $for$ pour afficher la représentation de l'ensemble des vecteurs vitesses instantanées approchées.\n",
    "<br>\n",
    "<br>\n",
    "<details>\n",
    "<summary>Aide n°1</summary>\n",
    "<p>Dans la boucle $for \\ i \\ in \\ range(a)$, i prend les valeurs entières appartenant à l'intervalle [0;a[ avec un pas égal à 1.</p>\n",
    "</details>\n",
    "<br>\n",
    "<details>\n",
    "<summary>Aide n°2</summary>\n",
    "<p>La longueur d'une liste nommée $x$ est obtenue avec la fonction $len(x)$</p>\n",
    "</details>\n",
    "<br>\n",
    "<details>\n",
    "<summary>Aide n°3</summary>\n",
    "<p>Avec un chronophotographie comportant les points allant de $M_0$ à $M_9$, il est possible de tracer les vecteurs vitesses instantanées approchées allant de $\\vec v_{0}$ à $\\vec v_{8}$</p>\n",
    "</details>\n",
    "<br>\n",
    "    <details>\n",
    "<summary>Aide n°4</summary>\n",
    "<p>Dans la fonction <font color=red><i>vecteur_vitesse_approchee</i></font>, le paramètre $value_i$ doit être le même que celui de la boucle $for$</p>\n",
    "</details>\n",
    "<br>\n",
    "</div>\n"
   ]
  },
  {
   "cell_type": "code",
   "execution_count": null,
   "metadata": {},
   "outputs": [],
   "source": [
    "nuagedepoints(x,y,'x (en m)','y (en m)','')\n",
    "\n",
    "for i in range(---A COMPLETER---):\n",
    "    vecteur_vitesse_approchee(---A COMPLETER---)\n",
    "\n",
    "    \n",
    "plt.show()"
   ]
  },
  {
   "cell_type": "markdown",
   "metadata": {},
   "source": [
    "### Exercice 6 : Ecrire une boucle permettant d'afficher la norme des vecteurs vitesse instantanée approchée $\\vec v_{i}$ à l'aide de Python\n",
    "\n",
    "<br>\n",
    "<div class=\"alert alert-warning\">\n",
    "<b>Travail à faire : </b> Compléter la boucle $for$ pour afficher la norme de l'ensemble des vecteurs vitesses instantanées approchées.\n",
    "<br>\n",
    "<br>\n",
    "<details>\n",
    "<summary>Aide n°1</summary>\n",
    "<p>Dans la boucle $for \\ i \\ in \\ range(a)$, i prend les valeurs entières appartenant à l'intervalle [0;a[ avec un pas égal à 1.</p>\n",
    "</details>\n",
    "<br>\n",
    "<details>\n",
    "<summary>Aide n°2</summary>\n",
    "<p>La longueur d'une liste nommée $x$ est obtenue avec la fonction $len(x)$</p>\n",
    "</details>\n",
    "<br>\n",
    "<details>\n",
    "<summary>Aide n°3</summary>\n",
    "<p>Avec un chronophotographie comportant les points allant de $M_0$ à $M_9$, il est possible de calculer la norme des vecteurs vitesses instantanées approchées allant de $v_{0}$ à $v_{8}$</p>\n",
    "</details>\n",
    "<br>\n",
    "  <details>\n",
    "<summary>Aide n°4</summary>\n",
    "<p>Dans la fonction <font color=red><i>norme_vecteur_vitesse_approchee</i></font>, le paramètre $value_i$ doit être le même que celui de la boucle $for$</p>\n",
    "</details>\n",
    "<br>  \n",
    "</div>\n"
   ]
  },
  {
   "cell_type": "code",
   "execution_count": null,
   "metadata": {},
   "outputs": [],
   "source": [
    "print(\"Norme du vecteur vitesse instantanée approchée à chaque date t\")\n",
    "print(\"t(en s)\",\"\\t\",\"v (en m/s)\") # \\t correspond à une tabulation\n",
    "\n",
    "for i in range(---A COMPLETER---):\n",
    "    v = norme_vecteur_vitesse_approchee(---A COMPLETER---)    \n",
    "    print(\"{:.3f}\".format(t[i]),\"\\t\",\"\\t\",\"{:.3f}\".format(v))"
   ]
  },
  {
   "cell_type": "code",
   "execution_count": null,
   "metadata": {},
   "outputs": [],
   "source": []
  }
 ],
 "metadata": {
  "kernelspec": {
   "display_name": "Python 3",
   "language": "python",
   "name": "python3"
  },
  "language_info": {
   "codemirror_mode": {
    "name": "ipython",
    "version": 3
   },
   "file_extension": ".py",
   "mimetype": "text/x-python",
   "name": "python",
   "nbconvert_exporter": "python",
   "pygments_lexer": "ipython3",
   "version": "3.7.6"
  }
 },
 "nbformat": 4,
 "nbformat_minor": 2
}
