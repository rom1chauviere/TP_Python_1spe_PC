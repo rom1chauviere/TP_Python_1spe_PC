{
 "cells": [
  {
   "cell_type": "markdown",
   "metadata": {},
   "source": [
    "# <center>Ex 25 p 231 - Mesure de la pression atmosphérique</center>\n",
    "\n",
    "\n",
    "\n",
    "<div class=\"alert alert-info\" role=\"alert\">\n",
    "Un notebook Jupyter est composé de deux types de cellules :<br>\n",
    "<ul><li> des cellules contenant du <b>texte</b> qu'il est nécessaire <b>de lire pour suivre correctement les consignes</b> ;</li><br>\n",
    "<li>des cellules contenant du <b>code Python</b> qu'il est nécessaire <b>d'éxécuter dans l'ordre d'apparition</b>.</li></ul><br>\n",
    "<br>\n",
    "<b>Pour exécuter une cellule sélectionnée</b> (encadrée en vert), il faut cliquer :<br>\n",
    "<ul><li>sur le bouton \"Exécuter\" situé à côté de la cellule<br><img src=\"Jupyter_Executer.bis.jpg\"></li><br>\n",
    "<li>ou sur le bouton \"Exécuter\" dans le bandeau supérieur.\n",
    "<br>\n",
    "<center><img src=\"Jupyter_Executer.jpg\"></center><br></li></ul>\n",
    "<br>\n",
    "Sur la gauche d'une cellule contenant du code Python, il y a l'indication <b>Entrée [&#160;&#160;]</b><br>\n",
    "<ul><li><b>Entrée [&#160;&#160;]</b> signifie que la cellule n'a pas été exécutée ;</li><br>\n",
    "<li><b>Entrée [*]</b> signifie que la cellule est en cours d'exécution. Soit il faut une action de votre part (saisie d'une valeur dans un <b>Input</b>, soit il faut donc patienter quelques secondes pour que tout le code s'exécute ;</li><br>\n",
    "<li><b>Entrée [14]</b> signifie que la cellule a été exécutée au rang 14.</li></ul><br>\n",
    "</div>\n",
    "\n",
    "<br>\n",
    "<div class=\"alert alert-danger\" role=\"alert\">\n",
    "<center><font size=\"5\">Ne modifier que la partie du code contenant ---A COMPLETER---</font></center>\n",
    "</div>"
   ]
  },
  {
   "cell_type": "markdown",
   "metadata": {},
   "source": [
    "## Mesures expérimentales"
   ]
  },
  {
   "cell_type": "code",
   "execution_count": 1,
   "metadata": {
    "collapsed": true
   },
   "outputs": [],
   "source": [
    "P=[1005,1007,1008,1011,1010,1013,1014,1012,1016,1009,1006,1009,1012,1016,1017,1013,1010,1014,1013,1014,1014,1007,1008,1009,1008,1015,1012,1013,1010,1009,1017,1013,1016,1011,1015]\n",
    "# pression en hPa"
   ]
  },
  {
   "cell_type": "markdown",
   "metadata": {},
   "source": [
    "<div class=\"alert alert-success\" role=\"alert\">\n",
    "Il faut maintenant comprendre comment les informations sont stockées.\n",
    "</div>\n"
   ]
  },
  {
   "cell_type": "code",
   "execution_count": 2,
   "metadata": {},
   "outputs": [
    {
     "name": "stdout",
     "output_type": "stream",
     "text": [
      "Première valeur de la liste : 1005\n"
     ]
    }
   ],
   "source": [
    "print(\"Première valeur de la liste :\",P[0])"
   ]
  },
  {
   "cell_type": "code",
   "execution_count": 3,
   "metadata": {},
   "outputs": [
    {
     "name": "stdout",
     "output_type": "stream",
     "text": [
      "Dernière valeur de la liste : 1015\n"
     ]
    }
   ],
   "source": [
    "print(\"Dernière valeur de la liste :\",P[-1])"
   ]
  },
  {
   "cell_type": "code",
   "execution_count": 4,
   "metadata": {},
   "outputs": [
    {
     "name": "stdout",
     "output_type": "stream",
     "text": [
      "Valeur minimale de la liste : 1005\n"
     ]
    }
   ],
   "source": [
    "print(\"Valeur minimale de la liste :\",min(P))"
   ]
  },
  {
   "cell_type": "code",
   "execution_count": 5,
   "metadata": {},
   "outputs": [
    {
     "name": "stdout",
     "output_type": "stream",
     "text": [
      "Valeur maximale de la liste : 1017\n"
     ]
    }
   ],
   "source": [
    "print(\"Valeur maximale de la liste :\",max(P))"
   ]
  },
  {
   "cell_type": "code",
   "execution_count": 6,
   "metadata": {},
   "outputs": [
    {
     "name": "stdout",
     "output_type": "stream",
     "text": [
      "Nombre de valeurs de la liste : 35\n"
     ]
    }
   ],
   "source": [
    "print(\"Nombre de valeurs de la liste :\",len(P))"
   ]
  },
  {
   "cell_type": "markdown",
   "metadata": {},
   "source": [
    "## Calcul de la moyenne, de l'écart-type et de l'incertitude-type (de type A)"
   ]
  },
  {
   "cell_type": "markdown",
   "metadata": {},
   "source": [
    "<div class=\"alert alert-warning\" role=\"alert\">\n",
    "Après avoir relu la fiche méthode page 423 de votre manuel, compléter les lignes de code suivantes.\n",
    "<br>\n",
    "<br>\n",
    "<details>\n",
    "<summary>Aide n°1</summary>\n",
    "<p>x$**$2=$x^{2}$</p>\n",
    "</details>\n",
    "<br>\n",
    "<details>\n",
    "<summary>Aide n°2</summary>\n",
    "<p>x$**$0.5=$\\sqrt{x}$</p>\n",
    "</details>\n",
    "</div>"
   ]
  },
  {
   "cell_type": "code",
   "execution_count": 7,
   "metadata": {},
   "outputs": [
    {
     "name": "stdout",
     "output_type": "stream",
     "text": [
      "La moyenne de P est 1011.6 hPa.\n"
     ]
    }
   ],
   "source": [
    "moyP=sum(P)/len(P) # calcul de la moyenne\n",
    "print(\"La moyenne de P est\",moyP,\"hPa.\")"
   ]
  },
  {
   "cell_type": "code",
   "execution_count": 8,
   "metadata": {},
   "outputs": [
    {
     "name": "stdout",
     "output_type": "stream",
     "text": [
      "L'écart-type de P est 3.273781767134688 hPa.\n"
     ]
    }
   ],
   "source": [
    "import numpy as np\n",
    "\n",
    "s=(sum((np.array(P)-moyP)**2)/(len(P)-1))**0.5 #calcul de l'écart-type s\n",
    "print(\"L'écart-type de P est\",s,\"hPa.\")"
   ]
  },
  {
   "cell_type": "code",
   "execution_count": 9,
   "metadata": {},
   "outputs": [
    {
     "name": "stdout",
     "output_type": "stream",
     "text": [
      "L'incertitude-type de P est 0.5533701179093046 hPa.\n"
     ]
    }
   ],
   "source": [
    "uP=s/(len(P))**0.5 #calcul de l'incertitude-type u(P)\n",
    "print(\"L'incertitude-type de P est\",uP,\"hPa.\")"
   ]
  },
  {
   "cell_type": "markdown",
   "metadata": {},
   "source": [
    "<div class=\"alert alert-warning\">\n",
    "Vous pouvez maintenant créer ci-dessous un code qui permet de donner le résultat de la mesure de la pression atmosphérique et son incertitude-type associée.\n",
    "<br>\n",
    "<br>\n",
    "<details>\n",
    "<summary>Aide</summary>\n",
    "<p>Pour écrire la valeur de x avec 2 décimales, il faut écrire : '%.2f'%(x)</p>\n",
    "</details>\n",
    "</div>"
   ]
  },
  {
   "cell_type": "code",
   "execution_count": null,
   "metadata": {
    "collapsed": true
   },
   "outputs": [],
   "source": [
    "print(---A COMPLETER---)"
   ]
  },
  {
   "cell_type": "markdown",
   "metadata": {},
   "source": [
    "## Tracé de l'histogramme des mesures"
   ]
  },
  {
   "cell_type": "markdown",
   "metadata": {},
   "source": [
    "<div class=\"alert alert-warning\" role=\"alert\">\n",
    "Compléter les lignes de codes suivantes pour tracer l'histogramme des mesures effectuées.\n",
    "<br>\n",
    "<br>\n",
    "<details>\n",
    "<summary>Aide</summary>\n",
    "<p>Les titres correspondent à du texte, il faut donc les mettre entre quotes ou guillemets.</p>\n",
    "</details>\n",
    "</div>"
   ]
  },
  {
   "cell_type": "code",
   "execution_count": 10,
   "metadata": {},
   "outputs": [
    {
     "data": {
      "image/png": "[encoded data removed]",
      "text/plain": [
       "<Figure size 432x288 with 1 Axes>"
      ]
     },
     "metadata": {},
     "output_type": "display_data"
    }
   ],
   "source": [
    "from matplotlib import pyplot as plt\n",
    "plt.hist(P, bins = 13, color = 'blue', edgecolor = 'black')     # bins indique le nombre d'intervalles, cad de valeurs différentes prises par Ca\n",
    "plt.xlabel(\"pression (en hPa)\") # titre de l'axe des abscisses\n",
    "plt.ylabel(\"Nb mesures\") # titre de l'axe des ordonnées\n",
    "plt.title(\"Mesures de la pression atmosphérique\") # titre du graphique\n",
    "plt.show()"
   ]
  },
  {
   "cell_type": "code",
   "execution_count": null,
   "metadata": {
    "collapsed": true
   },
   "outputs": [],
   "source": []
  }
 ],
 "metadata": {
  "kernelspec": {
   "display_name": "Python 3",
   "language": "python",
   "name": "python3"
  },
  "language_info": {
   "codemirror_mode": {
    "name": "ipython",
    "version": 3
   },
   "file_extension": ".py",
   "mimetype": "text/x-python",
   "name": "python",
   "nbconvert_exporter": "python",
   "pygments_lexer": "ipython3",
   "version": "3.4.5"
  }
 },
 "nbformat": 4,
 "nbformat_minor": 2
}
