{
 "cells": [
  {
   "cell_type": "markdown",
   "metadata": {},
   "source": [
    "# <center>Pression dans les profondeurs océaniques</center>\n",
    "\n",
    "\n",
    "\n",
    "<div class=\"alert alert-info\" role=\"alert\">\n",
    "Un notebook Jupyter est composé de deux types de cellules :<br>\n",
    "<ul><li> des cellules contenant du <b>texte</b> qu'il est nécessaire <b>de lire pour suivre correctement les consignes</b> ;</li><br>\n",
    "<li>des cellules contenant du <b>code Python</b> qu'il est nécessaire <b>d'éxécuter dans l'ordre d'apparition</b>.</li></ul><br>\n",
    "<br>\n",
    "<b>Pour exécuter une cellule sélectionnée</b> (encadrée en vert), il faut cliquer :<br>\n",
    "<ul><li>sur le bouton \"Exécuter\" situé à côté de la cellule<br><img src=\"Jupyter_Executer.bis.jpg\"></li><br>\n",
    "<li>ou sur le bouton \"Exécuter\" dans le bandeau supérieur.\n",
    "<br>\n",
    "<center><img src=\"Jupyter_Executer.jpg\"></center><br></li></ul>\n",
    "<br>\n",
    "Sur la gauche d'une cellule contenant du code Python, il y a l'indication <b>Entrée [&#160;&#160;]</b><br>\n",
    "<ul><li><b>Entrée [&#160;&#160;]</b> signifie que la cellule n'a pas été exécutée ;</li><br>\n",
    "<li><b>Entrée [*]</b> signifie que la cellule est en cours d'exécution. Soit il faut une action de votre part (saisie d'une valeur dans un <b>Input</b>, soit il faut donc patienter quelques secondes pour que tout le code s'exécute ;</li><br>\n",
    "<li><b>Entrée [14]</b> signifie que la cellule a été exécutée au rang 14.</li></ul><br>\n",
    "</div>\n",
    "\n",
    "<br>\n",
    "<div class=\"alert alert-danger\" role=\"alert\">\n",
    "<center><font size=\"5\">Ne modifier que la partie du code contenant ---A COMPLETER---</font></center>\n",
    "</div>"
   ]
  },
  {
   "cell_type": "markdown",
   "metadata": {},
   "source": [
    "## Mesures expérimentales"
   ]
  },
  {
   "cell_type": "code",
   "execution_count": null,
   "metadata": {
    "collapsed": true
   },
   "outputs": [],
   "source": [
    "P=[1015,1018,1021,1022,1023,1026,1027,1029,1032,1033,1037] # pression en hPa\n",
    "z=[0,2,4,6,8,10,12,14,16,18,20] # profondeur en cm"
   ]
  },
  {
   "cell_type": "markdown",
   "metadata": {},
   "source": [
    "<div class=\"alert alert-success\" role=\"alert\">\n",
    "Il faut maintenant comprendre comment les informations sont stockées.\n",
    "</div>\n"
   ]
  },
  {
   "cell_type": "code",
   "execution_count": null,
   "metadata": {
    "collapsed": true
   },
   "outputs": [],
   "source": [
    "print(\"Première valeur de chaque liste :\",P[0],z[0])"
   ]
  },
  {
   "cell_type": "code",
   "execution_count": null,
   "metadata": {
    "collapsed": true
   },
   "outputs": [],
   "source": [
    "print(\"Dernière valeur de chaque liste :\",P[-1],z[-1])"
   ]
  },
  {
   "cell_type": "markdown",
   "metadata": {},
   "source": [
    "## Tracé de la pression en fonction de la profondeur"
   ]
  },
  {
   "cell_type": "code",
   "execution_count": null,
   "metadata": {
    "collapsed": true
   },
   "outputs": [],
   "source": [
    "import matplotlib.pyplot as plt\n",
    "\"\"\"\n",
    "Fonction générant le nuage de points y en fonction de x\n",
    "Entrées : coordonnées de x, coordonnées de y, titre abscisse, titre ordonnée, titre graphique\n",
    "Résultat : nuage de points y en fonction de x\n",
    "\"\"\"\n",
    "def nuagedepoints(x,y,xtitle,ytitle,title):\n",
    "    plt.rcParams['figure.figsize'] = [10, 10]\n",
    "                            # taille de l'affichage du graphique\n",
    "    plt.plot(x, y, linestyle=\"none\" ,marker=\"x\" ,color=\"red\", markersize=\"10\",label=\"nuage de points\")\n",
    "                            # nuage de points,'none' points non reliés,'x' forme des points (o,-,+,s)\n",
    "                            # 'red' couleur (blue, green, cyan, magenta, yellow, black)\n",
    "                            # '10' taille des points\n",
    "                            # affiche la légende\n",
    "    plt.xlabel(xtitle)      # légende axe des abscisses\n",
    "    plt.ylabel(ytitle)      # légende axe des ordonnées\n",
    "    plt.legend()            # affiche la légende\n",
    "    plt.title(title)        # affiche un titre"
   ]
  },
  {
   "cell_type": "markdown",
   "metadata": {},
   "source": [
    "<div class=\"alert alert-warning\" role=\"alert\">\n",
    "Après avoir compris le fonctionnement de la fonction <font color=red><i>nuagedepoints</i></font>, compléter la 1ère ligne de code ci-dessous pour afficher le graphique représentant la pression en fonction de la profondeur.\n",
    "<br>\n",
    "<br>\n",
    "<details>\n",
    "<summary>Aide</summary>\n",
    "<p>Il est nécessaire de bien lire la description de la fonction et plus particulièrement la ligne *Entrée*.</p>\n",
    "</details>\n",
    "<br>\n",
    "<details>\n",
    "<summary>Aide</summary>\n",
    "<p>Les coordonnées des abcisses sont stockées dans une variable sous forme de liste. Si besoin, revoir les *Print* effectués précedemment.</p>\n",
    "</details>\n",
    "<br>\n",
    "<details>\n",
    "<summary>Aide</summary>\n",
    "<p>Les titres correspondent à du texte. Il faut donc le mettre entre quote ('') ou guillements(\"\")</p>\n",
    "</details>\n",
    "</div>"
   ]
  },
  {
   "cell_type": "code",
   "execution_count": null,
   "metadata": {
    "collapsed": true
   },
   "outputs": [],
   "source": [
    "nuagedepoints(---A COMPLETER---)\n",
    "\n",
    "plt.show() # affiche le graphique"
   ]
  },
  {
   "cell_type": "markdown",
   "metadata": {},
   "source": [
    "### Modélisation \"manuelle\" de l'expérience"
   ]
  },
  {
   "cell_type": "code",
   "execution_count": null,
   "metadata": {
    "collapsed": true
   },
   "outputs": [],
   "source": [
    "\"\"\"\n",
    "Fonction générant, jusqu'à l'abscisse xmax, une fonction affine y=f(x) de coefficient directeur a et d'ordonnée à l'origine b\n",
    "Entrées : coefficient directeur a, ordonnée à l'origine b, valeur maximale pour les abscisses\n",
    "Résultat : fonction affine de coefficient directeur a jusqu'à l'abscisse xmax\n",
    "\"\"\"\n",
    "\n",
    "def modele_affine(a,b,xmax):\n",
    "    abscisses=[] # création de la liste des abscisses\n",
    "    ordonnees=[] # création de la liste des ordonnées\n",
    "    x=0 # première valeur des abscisses\n",
    "    while x<xmax :\n",
    "        y=a*x+b # calcul de l'image (valeur de y) de la fonction affine\n",
    "        abscisses.append(x) # la valeur de x est ajoutée à la fin de la liste des abscisses\n",
    "        ordonnees.append(y) # la valeur de y est ajoutée à la fin de la liste des ordonnées\n",
    "        x=x+xmax/1e3 # modification de la valeur de x correspondant au millième de la valeur de xmax\n",
    "    plt.plot(abscisses,ordonnees,linestyle='-',linewidth=\"1\",color=\"blue\",label=\"modèle : y = {:.3f} * x + {:.0f}\".format(a,b))\n",
    "    #\"-\" forme de la courbe, \"1\" épaisseur de la courbe,\n",
    "    #\"blue\" couleur (red, green, cyan, magenta, yellow, black),\n",
    "    # affiche la légende contenant les valeurs de a et b avec 2 chiffres après la virgule\n",
    "    plt.legend()"
   ]
  },
  {
   "cell_type": "markdown",
   "metadata": {},
   "source": [
    "<div class=\"alert alert-warning\" role=\"alert\">\n",
    "Après avoir compris le fonctionnement de la fonction <font color=red><i>modele_affine</i></font>, compléter les lignes de code ci-dessous pour tracer le nuage de points et son modèle.\n",
    "<br>\n",
    "<br>\n",
    "<details>\n",
    "<summary>Aide</summary>\n",
    "<p>Repérer la valeur de l'ordonnée à l'origine b.</p>\n",
    "</details>\n",
    "<details>\n",
    "<summary>Aide</summary>\n",
    "<p>Modifier petit à petit le coeffcient directeur.</p>\n",
    "</details>\n",
    "</div>"
   ]
  },
  {
   "cell_type": "code",
   "execution_count": null,
   "metadata": {
    "collapsed": true
   },
   "outputs": [],
   "source": [
    "nuagedepoints(---COPIER CE QUE VOUS AVEZ ECRIT PRECEDEMMENT---)\n",
    "modele_affine(---A COMPLETER---)\n",
    "\n",
    "plt.show() # affiche le graphique"
   ]
  },
  {
   "cell_type": "markdown",
   "metadata": {
    "collapsed": true
   },
   "source": [
    "### Régression linéaire du nuage de points \"pression en fonction de la profondeur\""
   ]
  },
  {
   "cell_type": "code",
   "execution_count": null,
   "metadata": {
    "collapsed": true
   },
   "outputs": [],
   "source": [
    "import numpy as np\n",
    "\n",
    "\"\"\"\n",
    "Fonction effectuant la régression linéaire d'un nuage de points \n",
    "Entrées : coordonnées de x, coordonnées de y\n",
    "Résultat : liste contenant le coefficient directeur a et l'ordonnée à l'origine b\n",
    "\"\"\"\n",
    "\n",
    "def regression(x,y):\n",
    "    return np.polyfit(x,y,1) # création de la liste des abscisses"
   ]
  },
  {
   "cell_type": "markdown",
   "metadata": {},
   "source": [
    "<div class=\"alert alert-warning\" role=\"alert\">\n",
    "Après avoir compris le fonctionnement de la fonction <font color=red><i>regression</i></font>, compléter la ligne de code ci-dessous pour afficher le coefficient directeur a et l'ordonnée à l'origine b.\n",
    "<br>\n",
    "<br>\n",
    "<details>\n",
    "<summary>Aide</summary>\n",
    "<p>Les coordonnées des abcisses sont stockées dans une variable sous forme de liste.</p>\n",
    "</details>\n",
    "<details>\n",
    "<summary>Aide</summary>\n",
    "<p>pression en fonction de la profondeur peut s'écrire P=f(z)</p>\n",
    "</details>\n",
    "</div>"
   ]
  },
  {
   "cell_type": "code",
   "execution_count": null,
   "metadata": {
    "collapsed": true
   },
   "outputs": [],
   "source": [
    "coefficients=regression(---A COMPLETER---)\n",
    "\n",
    "print(\"Le coefficient directeur a vaut\",\"%.3f\"%coefficients[0],\"SI.\")\n",
    "print(\"L'ordonnée à l'origine b vaut\",\"%.0f\"%coefficients[1],\"SI.\")"
   ]
  },
  {
   "cell_type": "markdown",
   "metadata": {},
   "source": [
    "<div class=\"alert alert-warning\" role=\"alert\">\n",
    "En utilisant les fonctions vues précédemment, compléter les lignes de code ci-dessous pour tracer le nuage de points et son modèle en utilisant les valeurs de la régression.\n",
    "<br>\n",
    "<br>\n",
    "<details>\n",
    "<summary>Aide</summary>\n",
    "<p>Il faut tracer le nuage de points.</p>\n",
    "</details>\n",
    "<details>\n",
    "<summary>Aide</summary>\n",
    "<p>Il faut tracer le modèle en utilisant les coefficients calculés précédemment (coefficients[0] et coefficients[1]).</p>\n",
    "</details>\n",
    "</div>"
   ]
  },
  {
   "cell_type": "code",
   "execution_count": null,
   "metadata": {
    "collapsed": true
   },
   "outputs": [],
   "source": [
    "---A COMPLETER---\n",
    "---A COMPLETER---\n",
    "\n",
    "plt.show()"
   ]
  },
  {
   "cell_type": "markdown",
   "metadata": {},
   "source": [
    "<div class=\"alert alert-danger\" role=\"alert\">\n",
    "L'expérience est-elle compatible avec la loi fondamentale de la statique des fluides ? Justifier à l'aide du graphique ci-dessus.\n",
    "</div>"
   ]
  },
  {
   "cell_type": "code",
   "execution_count": null,
   "metadata": {
    "collapsed": true
   },
   "outputs": [],
   "source": []
  }
 ],
 "metadata": {
  "kernelspec": {
   "display_name": "Python 3",
   "language": "python",
   "name": "python3"
  },
  "language_info": {
   "codemirror_mode": {
    "name": "ipython",
    "version": 3
   },
   "file_extension": ".py",
   "mimetype": "text/x-python",
   "name": "python",
   "nbconvert_exporter": "python",
   "pygments_lexer": "ipython3",
   "version": "3.4.5"
  }
 },
 "nbformat": 4,
 "nbformat_minor": 2
}
