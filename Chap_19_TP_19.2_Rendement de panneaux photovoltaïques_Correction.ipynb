{
 "cells": [
  {
   "cell_type": "markdown",
   "metadata": {},
   "source": [
    "# <center>TP 19.2 : Rendement de panneaux photovoltaïques</center>\n",
    "\n",
    "\n",
    "\n",
    "<div class=\"alert alert-info\" role=\"alert\">\n",
    "Un notebook Jupyter est composé de deux types de cellules :<br>\n",
    "<ul><li> des cellules contenant du <b>texte</b> qu'il est nécessaire <b>de lire pour suivre correctement les consignes</b> ;</li><br>\n",
    "<li>des cellules contenant du <b>code Python</b> qu'il est nécessaire <b>d'éxécuter dans l'ordre d'apparition</b>.</li></ul><br>\n",
    "<br>\n",
    "<b>Pour exécuter une cellule sélectionnée</b> (encadrée en vert), il faut cliquer :<br>\n",
    "<ul><li>sur le bouton \"Exécuter\" situé à côté de la cellule<br><img src=\"Jupyter_Executer.bis.jpg\"></li><br>\n",
    "<li>ou sur le bouton \"Exécuter\" dans le bandeau supérieur.\n",
    "<br>\n",
    "<center><img src=\"Jupyter_Executer.jpg\"></center><br></li></ul>\n",
    "</div>"
   ]
  },
  {
   "cell_type": "code",
   "execution_count": 1,
   "metadata": {
    "collapsed": true
   },
   "outputs": [],
   "source": [
    "#Exécuter cette ligne de code en suivant les indications ci-dessus.\n",
    "a=\"Hello World\""
   ]
  },
  {
   "cell_type": "code",
   "execution_count": 2,
   "metadata": {},
   "outputs": [
    {
     "name": "stdout",
     "output_type": "stream",
     "text": [
      "Hello World\n"
     ]
    }
   ],
   "source": [
    "#Exécuter cette ligne de code en suivant les indications ci-dessus.\n",
    "print(a)"
   ]
  },
  {
   "cell_type": "markdown",
   "metadata": {},
   "source": [
    "<div class=\"alert alert-info\" role=\"alert\">\n",
    "Sur la gauche d'une cellule contenant du code Python, il y a l'indication <b>Entrée [&#160;&#160;]</b><br>\n",
    "<ul><li><b>Entrée [&#160;&#160;]</b> signifie que la cellule n'a pas été exécutée ;</li><br>\n",
    "<li><b>Entrée [*]</b> signifie que la cellule est en cours d'exécution. Soit il faut une action de votre part (saisie d'une valeur dans un <b>Input</b>, soit il faut donc patienter quelques secondes pour que tout le code s'exécute ;</li><br>\n",
    "<li><b>Entrée [2]</b> signifie que la cellule a été exécutée au rang 2.</li></ul><br>\n",
    "<br>\n",
    "</div>\n",
    "<div class=\"alert alert-success\" role=\"alert\">\n",
    "<details>\n",
    "<summary><b>A LIRE (en cliquant sur la flèche à gauche)</b>: Explications pour sauvegarder vos modifications au fur et à mesure.</summary>\n",
    "<p>En cas d'inactivité prolongé (entre 5 et 10 min), le notebook Jupyter sera déconnecté.<br>\n",
    "<img src=\"Jupyter_deconnected.jpg\"><br>\n",
    "Pour éviter de perdre vos modifications de code, enregistrez régulièrement votre notebook dans votre navigateur.<br>\n",
    "<img src=\"Jupyter_save.jpg\"><br>\n",
    "Le message suivant s'affiche :\n",
    "<img src=\"Jupyter_save_2.jpg\"><br>\n",
    "En cas de déconnexion, vous devez réouvrir votre notebook puis vous pouvez charger votre sauvegarde.<br>\n",
    "<img src=\"Jupyter_open.jpg\"><br>\n",
    "Le message suivant s'affiche et vous devez cliquer sur \"OK\" :\n",
    "<img src=\"Jupyter_open_2.jpg\"><br>\n",
    "Vous devez exécuter toutes les cellules modifiées depuis le début. Pour le faire rapidement, il faut cliquer sur \"Restart & Run all\" dans le menu Kernel.<br>\n",
    "<img src=\"Jupyter_restart.jpg\"><br></p>\n",
    "Le message suivant s'affiche et vous devez cliquer sur \"Restart & Run All Cells\" :\n",
    "<img src=\"Jupyter_restart_2.jpg\"><br>\n",
    "</details>\n",
    "</div>\n",
    "\n",
    "<div class=\"alert alert-danger\" role=\"alert\">\n",
    "<center><font size=\"5\">Ne modifier que la partie du code contenant ---A COMPLETER---</font></center>\n",
    "</div>"
   ]
  },
  {
   "cell_type": "markdown",
   "metadata": {},
   "source": [
    "## Mesures expérimentales"
   ]
  },
  {
   "cell_type": "code",
   "execution_count": 3,
   "metadata": {},
   "outputs": [],
   "source": [
    "U=[0.132,0.143,0.154,0.161,0.17,0.183,0.189,0.201,0.211,0.22,0.304,0.378,0.419,0.438,0.450,0.456,0.462,0.464,0.467,0.468] # tension aux bornes du panneau photovoltaïque (en V)\n",
    "I=[10.49,10.45,10.5,10.23,10.2,10.36,10.23,10.2,10.23,10.17,10.02,9.33,8.32,7.26,6.37,5.67,5.10,4.61,4.21,3.83] # intensité du courant électrique débitée par le panneau photovoltaïque (en mA)"
   ]
  },
  {
   "cell_type": "code",
   "execution_count": 4,
   "metadata": {},
   "outputs": [
    {
     "name": "stdout",
     "output_type": "stream",
     "text": [
      "Nombre de valeurs de la liste U : 20\n",
      "Nombre de valeurs de la liste I : 20\n"
     ]
    }
   ],
   "source": [
    "print(\"Nombre de valeurs de la liste U :\",len(U))\n",
    "print(\"Nombre de valeurs de la liste I :\",len(I))"
   ]
  },
  {
   "cell_type": "markdown",
   "metadata": {},
   "source": [
    "<div class=\"alert alert-danger\" role=\"alert\">\n",
    "Vérifier que les deux listes ont bien le même nombre de valeurs.\n",
    "</div>"
   ]
  },
  {
   "cell_type": "markdown",
   "metadata": {},
   "source": [
    "<div class=\"alert alert-warning\" role=\"alert\">\n",
    "Compléter la boucle ci-dessous pour convertir l'intensité en A.\n",
    "<br>\n",
    "<br>\n",
    "<details>\n",
    "<summary>Aide n°1</summary>\n",
    "<p>1 mA = 1e-3 A</p>\n",
    "</details>\n",
    "<br>\n",
    "<details>\n",
    "<summary>Aide n°2</summary>\n",
    "<p>len() permet de connaître le nombre d'éléments dans une liste</p>\n",
    "</details>\n",
    "<br>\n",
    "<details>\n",
    "<summary>Aide n°3</summary>\n",
    "<p>x[i]=x[i]*2 permet de remplacer un élément par son double. Cela peut aussi s'écrire x[i]*=2</p>\n",
    "</details>\n",
    "</div>"
   ]
  },
  {
   "cell_type": "code",
   "execution_count": 5,
   "metadata": {
    "collapsed": true
   },
   "outputs": [],
   "source": [
    "for i in range(len(I)):\n",
    "    I[i]=I[i]*1e-3"
   ]
  },
  {
   "cell_type": "markdown",
   "metadata": {},
   "source": [
    "<div class=\"alert alert-warning\" role=\"alert\">\n",
    "Compléter la boucle ci-dessous pour calculer la puissance électrique P_elec en sortie du panneau photovoltaïque (en W).\n",
    "<br>\n",
    "<br>\n",
    "<details>\n",
    "<summary>Aide n°1</summary>\n",
    "<p>P_elec=U*I</p>\n",
    "</details>\n",
    "<br>\n",
    "<details>\n",
    "<summary>Aide n°2</summary>\n",
    "<p>len() permet de connaître le nombre d'éléments dans une liste</p>\n",
    "</details>\n",
    "</div>"
   ]
  },
  {
   "cell_type": "code",
   "execution_count": 6,
   "metadata": {
    "collapsed": true
   },
   "outputs": [],
   "source": [
    "P_elec = [] # création d'une liste vide\n",
    "\n",
    "for i in range(len(I)):\n",
    "    P_elec.append(U[i]*I[i]) # calcule la valeur de P et l'ajoute une valeur à la fin de la liste"
   ]
  },
  {
   "cell_type": "markdown",
   "metadata": {},
   "source": [
    "<div class=\"alert alert-success\" role=\"alert\">\n",
    "Il faut maintenant comprendre comment les informations sont stockées.\n",
    "</div>\n"
   ]
  },
  {
   "cell_type": "code",
   "execution_count": 7,
   "metadata": {},
   "outputs": [
    {
     "name": "stdout",
     "output_type": "stream",
     "text": [
      "Première valeur de chaque liste : 0.132 0.010490000000000001 0.0013846800000000001\n"
     ]
    }
   ],
   "source": [
    "print(\"Première valeur de chaque liste :\",U[0],I[0],P_elec[0])"
   ]
  },
  {
   "cell_type": "code",
   "execution_count": 8,
   "metadata": {},
   "outputs": [
    {
     "name": "stdout",
     "output_type": "stream",
     "text": [
      "Dernière valeur de chaque liste : 0.468 0.00383 0.0017924400000000002\n"
     ]
    }
   ],
   "source": [
    "print(\"Dernière valeur de chaque liste :\",U[-1],I[-1],P_elec[-1])"
   ]
  },
  {
   "cell_type": "markdown",
   "metadata": {},
   "source": [
    "## Détermination de la puissance électrique maximale en sortie du panneau photovoltaïque P_elec = f(U)"
   ]
  },
  {
   "cell_type": "code",
   "execution_count": 9,
   "metadata": {
    "collapsed": true
   },
   "outputs": [],
   "source": [
    "import matplotlib.pyplot as plt\n",
    "\"\"\"\n",
    "Fonction générant le nuage de points y en fonction de x\n",
    "Entrées : coordonnées de x, coordonnées de y, titre abscisse, titre ordonnée, titre graphique\n",
    "Résultat : nuage de points y en fonction de x\n",
    "\"\"\"\n",
    "def nuagedepoints(x,y,xtitle,ytitle,title):\n",
    "    plt.rcParams['figure.figsize'] = [10, 10]\n",
    "                            # taille de l'affichage du graphique\n",
    "    plt.plot(x, y, linestyle=\"none\" ,marker=\"x\" ,color=\"red\", markersize=\"10\",label=\"nuage de points\")\n",
    "                            # nuage de points,'none' points non reliés,'x' forme des points (o,-,+,s)\n",
    "                            # 'red' couleur (blue, green, cyan, magenta, yellow, black)\n",
    "                            # '10' taille des points\n",
    "                            # affiche la légende\n",
    "    plt.xlim(0,1.1*max(x))\n",
    "    plt.ylim(0,1.1*max(y))    \n",
    "    plt.xlabel(xtitle)      # légende axe des abscisses\n",
    "    plt.ylabel(ytitle)      # légende axe des ordonnées\n",
    "    plt.legend()            # affiche la légende\n",
    "    plt.title(title)        # affiche un titre"
   ]
  },
  {
   "cell_type": "markdown",
   "metadata": {},
   "source": [
    "<div class=\"alert alert-warning\" role=\"alert\">\n",
    "Après avoir compris le fonctionnement de la fonction <font color=red><i>nuagedepoints</i></font>, compléter la 1ère ligne de code ci-dessous pour afficher le graphique représentant la puissance électrique en sortie du panneau photovoltaïque en fonction de la tension à ses bornes P_elec = f(U).\n",
    "<br>\n",
    "<br>\n",
    "<details>\n",
    "<summary>Aide n°1</summary>\n",
    "<p>Il est nécessaire de bien lire la description de la fonction et plus particulièrement la ligne *Entrée*.</p>\n",
    "</details>\n",
    "<br>\n",
    "<details>\n",
    "<summary>Aide n°2</summary>\n",
    "<p>Les coordonnées des abcisses sont stockées dans une variable sous forme de liste.  Il en est de même pour les coordonnées des ordonnées. Si besoin, revoir les *Print* effectués au début du programme.</p>\n",
    "</details>\n",
    "<br>\n",
    "<details>\n",
    "<summary>Aide n°3</summary>\n",
    "<p>Les titres correspondent à du texte. Il faut donc le mettre entre quote ('') ou guillements(\"\")</p>\n",
    "</details>\n",
    "</div>"
   ]
  },
  {
   "cell_type": "code",
   "execution_count": 10,
   "metadata": {},
   "outputs": [
    {
     "data": {
      "image/png": "[encoded data removed]",
      "text/plain": [
       "<Figure size 720x720 with 1 Axes>"
      ]
     },
     "metadata": {},
     "output_type": "display_data"
    }
   ],
   "source": [
    "nuagedepoints(U,P_elec,\"tension (en V)\",\"puissance électrique en sortie (en W)\",\"puissance électrique en sortie du panneau photovoltaïque en fonction de la tension à ses bornes\")\n",
    "\n",
    "plt.show() # affiche le graphique"
   ]
  },
  {
   "cell_type": "markdown",
   "metadata": {},
   "source": [
    "### Lissage du nuage de points"
   ]
  },
  {
   "cell_type": "code",
   "execution_count": 11,
   "metadata": {
    "collapsed": true
   },
   "outputs": [],
   "source": [
    "import numpy as np\n",
    "\n",
    "\"\"\"\n",
    "Fonction générant un lissage du nuage de points\n",
    "Entrées : coordonnées de x, coordonnées de y\n",
    "Résultat : lissage du nuage de points y en fonction de x\n",
    "\"\"\"\n",
    "\n",
    "def lissage(x,y):\n",
    "    poly = np.polyfit(x,y,10)\n",
    "    poly_y = np.poly1d(poly)(x)\n",
    "    plt.plot(x,poly_y,linestyle='-',linewidth=\"1\",color=\"blue\",label=\"lissage\")\n",
    "    #\"-\" forme de la courbe, \"1\" épaisseur de la courbe,\n",
    "    #\"blue\" couleur (red, green, cyan, magenta, yellow, black),\n",
    "    plt.legend()"
   ]
  },
  {
   "cell_type": "markdown",
   "metadata": {},
   "source": [
    "<div class=\"alert alert-warning\" role=\"alert\">\n",
    "Après avoir compris le fonctionnement de la fonction <font color=red><i>lissage</i></font>, compléter les lignes de code ci-dessous pour tracer le nuage de points et son modèle.\n",
    "<br>\n",
    "<br>\n",
    "<details>\n",
    "<summary>Aide</summary>\n",
    "<p>Les coordonnées des abcisses sont stockées dans une variable sous forme de liste.  Il en est de même pour les coordonnées des ordonnées. Si besoin, revoir les *Print* effectués au début du programme.</p>\n",
    "</details>\n",
    "</div>"
   ]
  },
  {
   "cell_type": "code",
   "execution_count": 12,
   "metadata": {
    "scrolled": false
   },
   "outputs": [
    {
     "data": {
      "image/png": "[encoded data removed]",
      "text/plain": [
       "<Figure size 720x720 with 1 Axes>"
      ]
     },
     "metadata": {},
     "output_type": "display_data"
    }
   ],
   "source": [
    "nuagedepoints(U,P_elec,\"tension (en V)\",\"puissance électrique en sortie (en W)\",\"puissance électrique en sortie du panneau photovoltaïque en fonction de la tension à ses bornes\")\n",
    "lissage(U,P_elec)\n",
    "\n",
    "plt.show() # affiche le graphique"
   ]
  },
  {
   "cell_type": "code",
   "execution_count": null,
   "metadata": {
    "collapsed": true
   },
   "outputs": [],
   "source": []
  }
 ],
 "metadata": {
  "kernelspec": {
   "display_name": "Python 3",
   "language": "python",
   "name": "python3"
  },
  "language_info": {
   "codemirror_mode": {
    "name": "ipython",
    "version": 3
   },
   "file_extension": ".py",
   "mimetype": "text/x-python",
   "name": "python",
   "nbconvert_exporter": "python",
   "pygments_lexer": "ipython3",
   "version": "3.4.5"
  }
 },
 "nbformat": 4,
 "nbformat_minor": 2
}
