{
 "cells": [
  {
   "cell_type": "markdown",
   "metadata": {},
   "source": [
    "# <center>Tracé du vecteur variation de vitesse</center>"
   ]
  },
  {
   "cell_type": "markdown",
   "metadata": {},
   "source": [
    "<div class=\"alert alert-info\" role=\"alert\">\n",
    "Un notebook Jupyter est composé de deux types de cellules :<br>\n",
    "<ul><li> des cellules contenant du <b>texte</b> qu'il est nécessaire <b>de lire pour suivre correctement les consignes</b> ;</li><br>\n",
    "<li>des cellules contenant du <b>code Python</b> qu'il est nécessaire <b>d'éxécuter dans l'ordre d'apparition</b>.</li></ul><br>\n",
    "<br>\n",
    "<b>Pour exécuter une cellule sélectionnée</b> (encadrée en vert), il faut cliquer :<br>\n",
    "<ul><li>sur le bouton \"Exécuter\" situé à côté de la cellule<br><img src=\"Jupyter_Executer.bis.jpg\"></li><br>\n",
    "<li>ou sur le bouton \"Exécuter\" dans le bandeau supérieur.\n",
    "<br>\n",
    "<center><img src=\"Jupyter_Executer.jpg\"></center><br></li></ul>\n",
    "</div>\n",
    "<div class=\"alert alert-warning\">\n",
    "<b>Travail à faire : </b> Exécuter cette ligne de code en suivant les indications ci-dessus. Du texte est affecté à la variable \"a\".\n",
    "</div>"
   ]
  },
  {
   "cell_type": "code",
   "execution_count": null,
   "metadata": {},
   "outputs": [],
   "source": [
    "a=\"Hello World\""
   ]
  },
  {
   "cell_type": "markdown",
   "metadata": {},
   "source": [
    "<div class=\"alert alert-info\" role=\"alert\">\n",
    "Sur la gauche d'une cellule contenant du code Python, il y a l'indication <b>Entrée [&#160;&#160;]</b><br>\n",
    "<ul><li><b>Entrée [&#160;&#160;]</b> signifie que la cellule n'a pas été exécutée ;</li><br>\n",
    "<li><b>Entrée [*]</b> signifie que la cellule est en cours d'exécution. Soit il faut une action de votre part (saisie d'une valeur dans un <b>Input</b>, soit il faut donc patienter quelques secondes pour que tout le code s'exécute) ;</li><br>\n",
    "<li><b>Entrée [1]</b> signifie que la cellule a été exécutée au rang 1.</li></ul><br>\n",
    "<br>\n",
    "</div>\n",
    "<div class=\"alert alert-warning\">\n",
    "<b>Travail à faire : </b> Exécuter cette ligne de code qui permet d'afficher la valeur de la variable \"a\".\n",
    "</div>"
   ]
  },
  {
   "cell_type": "code",
   "execution_count": null,
   "metadata": {},
   "outputs": [],
   "source": [
    "print(a)"
   ]
  },
  {
   "cell_type": "markdown",
   "metadata": {},
   "source": [
    "<div class=\"alert alert-success\" role=\"alert\">\n",
    "<details>\n",
    "<summary><b>A LIRE (en cliquant sur la flèche à gauche)</b>: Explications pour sauvegarder vos modifications au fur et à mesure.</summary>\n",
    "<p>En cas d'inactivité prolongé (entre 5 et 10 min), le notebook Jupyter sera déconnecté.<br>\n",
    "<img src=\"Jupyter_deconnected.jpg\"><br>\n",
    "Pour éviter de perdre vos modifications de code, enregistrez régulièrement votre notebook dans votre navigateur.<br>\n",
    "<img src=\"Jupyter_save.jpg\"><br>\n",
    "Le message suivant s'affiche :\n",
    "<img src=\"Jupyter_save_2.jpg\"><br>\n",
    "En cas de déconnexion, vous devez réouvrir votre notebook puis vous pouvez charger votre sauvegarde.<br>\n",
    "<img src=\"Jupyter_open.jpg\"><br>\n",
    "Le message suivant s'affiche et vous devez cliquer sur \"OK\" :\n",
    "<img src=\"Jupyter_open_2.jpg\"><br>\n",
    "Vous devez exécuter toutes les cellules modifiées depuis le début. Pour le faire rapidement, il faut cliquer sur \"Restart & Run all\" dans le menu Kernel.<br>\n",
    "<img src=\"Jupyter_restart.jpg\"><br></p>\n",
    "Le message suivant s'affiche et vous devez cliquer sur \"Restart & Run All Cells\" :\n",
    "<img src=\"Jupyter_restart_2.jpg\"><br>\n",
    "</details>\n",
    "</div>\n",
    "\n",
    "<div class=\"alert alert-danger\" role=\"alert\">\n",
    "<center><font size=\"5\">Ne modifier que la partie du code contenant ---A COMPLETER---</font></center>\n",
    "</div>"
   ]
  },
  {
   "cell_type": "markdown",
   "metadata": {},
   "source": [
    "## Situation n°1 : Réussir un lancer depuis le milieu de terrain de basket<br>\n",
    "\n",
    "Regarder la vidéo suivante : https://youtu.be/CwUzFXnyILY<br>\n",
    "\n",
    "Si vous voulez gagner 95 000 $, il \"suffit\" de lancer le ballon de basket à la vitesse de 11,36 m/s avec un angle de 45,0 ° par rapport à l'horizontale à une hauteur initiale de 2,35 m.<br>\n",
    "\n",
    "Un pointage a été réalisé sur le système {ballon} de masse m = 590 g assimilé à un point matériel M durant le lancer (après que le ballon ait quitté les mains du joueur et avant qu'il ne touche le panier). Il a été enregistré dans le fichier <i>lancer milieu de terrain.txt</i>.<br><br>\n",
    "\n",
    "## Importation des mesures\n",
    "<div class=\"alert alert-success\" role=\"alert\">\n",
    "Exécuter le bloc ci-dessous (aucune compréhension du code n'est nécessaire).\n",
    "</div>"
   ]
  },
  {
   "cell_type": "code",
   "execution_count": null,
   "metadata": {},
   "outputs": [],
   "source": [
    "#caractère séparateur du csv -peut être une virgule, un point-virgule ou une tabulation noté \\t\n",
    "sep = \";\"\n",
    "#nombre de lignes d'entete\n",
    "entete = 3\n",
    "\n",
    "#choix du fichier à importer (ajouter ou supprimer le #)\n",
    "name = 'lancer milieu de terrain.txt'\n",
    "#name = 'mobile autoporteur.txt'\n",
    "\n",
    "f = open(name,\"r\") # r= read, w = write\n",
    "data = f.readlines() #on lit toutes les lignes et on met ça dans une liste -un élément par ligne-\n",
    "\n",
    "data = data[entete :] #on supprime les lignes d'en-tête qui ne nous intéressent pas\n",
    "\n",
    "t = []\n",
    "x = []\n",
    "y = []\n",
    "for ligne in data:\n",
    "    ligne = ligne.replace(\",\" , \".\") #change les virgules en point => format numérique différent sur aviméca et sur python\n",
    "    ligne = ligne.strip().split(sep) #on sépare les différents élément en utilisant le caractère séparateur défini\n",
    "    ligne = list(map(float,ligne)) #on convertit chaque élément en float\n",
    "    #on rentre les valeurs dans les listes adaptées\n",
    "    t.append(ligne[0])\n",
    "    x.append(ligne[1])\n",
    "    y.append(ligne[2])\n",
    "print(\"Le fichier a bien été importé\")"
   ]
  },
  {
   "cell_type": "markdown",
   "metadata": {},
   "source": [
    "<div class=\"alert alert-success\" role=\"alert\">\n",
    "Exécuter le bloc ci-dessous pour comprendre comment les informations sont stockées</div>"
   ]
  },
  {
   "cell_type": "code",
   "execution_count": null,
   "metadata": {},
   "outputs": [],
   "source": [
    "print(t)"
   ]
  },
  {
   "cell_type": "markdown",
   "metadata": {},
   "source": [
    "<div class=\"alert alert-info\">\n",
    "<b>Travail à faire : </b> À l'aide des valeurs de t affichées ci-dessus, en déduire la durée $\\Delta t$ entre deux points consécutifs\n",
    "<br>\n",
    "</div>\n",
    "<br>\n",
    "<div class=\"alert alert-success\" role=\"alert\">\n",
    "Exécuter le bloc ci-dessous pour afficher les coordonnées du premier point.</div>"
   ]
  },
  {
   "cell_type": "code",
   "execution_count": null,
   "metadata": {},
   "outputs": [],
   "source": [
    "print(\"Coordonnées du premier point :\",t[0],x[0],y[0])"
   ]
  },
  {
   "cell_type": "markdown",
   "metadata": {},
   "source": [
    "<div class=\"alert alert-success\" role=\"alert\">\n",
    "Exécuter le bloc ci-dessous pour afficher les coordonnées du dernier point.</div>"
   ]
  },
  {
   "cell_type": "code",
   "execution_count": null,
   "metadata": {},
   "outputs": [],
   "source": [
    "print(\"Coordonnées du dernier point :\",t[-1],x[-1],y[-1])"
   ]
  },
  {
   "cell_type": "markdown",
   "metadata": {},
   "source": [
    "## Tracé de la trajectoire du système y = f(x)\n",
    "\n",
    "<div class=\"alert alert-success\" role=\"alert\">\n",
    "Exécuter le bloc ci-dessous aprés avoir lu la description de la fonction (les 3 lignes en rouges).</div>"
   ]
  },
  {
   "cell_type": "code",
   "execution_count": null,
   "metadata": {},
   "outputs": [],
   "source": [
    "import matplotlib.pyplot as plt\n",
    "\n",
    "\"\"\"\n",
    "Fonction générant le nuage de points \"ordonnée en fonction d'abscisse\"\n",
    "Entrées : coordonnées des abscisses, coordonnées des ordonnées, titre abscisse, titre ordonnée, titre graphique\n",
    "Résultat : nuage de points \"ordonnée en fonction d'abscisse\" ou \"ordonnée = f(abscisse)\" avec affichage du point Mi\n",
    "\"\"\"\n",
    "def nuagedepoints(abscisses,ordonnees,abscisse_title,ordonnee_title,title):\n",
    "    fig = plt.figure(figsize=(10,10))\n",
    "                            # taille de l'affichage du graphique\n",
    "    ax = fig.add_subplot(1, 1, 1)\n",
    "    ax.plot(abscisses, ordonnees, linestyle=\"none\" ,marker=\"x\" ,color=\"red\", markersize=\"10\",label=\"nuage de points\")\n",
    "                            # nuage de points,'none' points non reliés,'x' forme des points (o,-,+,s)\n",
    "                            # 'red' couleur (blue, green, cyan, magenta, yellow, black)\n",
    "                            # '10' taille des points\n",
    "                            # affiche la légende\n",
    "    ax.axis('equal')       # repère orthonormé\n",
    "                            # boucle générant l'écriture \"Mi\" à proximité du point correspondant\n",
    "    df=max(max(abscisses)-min(abscisses),max(ordonnees)-min(ordonnees))/20\n",
    "    for i in range(len(abscisses)):\n",
    "        numero=str(i)\n",
    "        table = str.maketrans({str(j):chr(0x2080 + j) for j in range(10)})\n",
    "        indice=numero.translate(table) \n",
    "        plt.text(abscisses[i],ordonnees[i]+df,'M'+indice,color='black', fontsize=12,horizontalalignment='center', verticalalignment='center')\n",
    "    plt.xlabel(abscisse_title,ha='right',fontstyle='italic',x=1.0)\n",
    "    plt.ylabel(ordonnee_title,fontstyle='italic',rotation=0,ha='right',va='top',y=1.0)\n",
    "    ax.spines['right'].set_color('none')\n",
    "    ax.spines['top'].set_color('none')\n",
    "    ax.xaxis.set_ticks_position('bottom')\n",
    "    ax.spines['bottom'].set_position(('data',0))\n",
    "    ax.set_ylim(bottom=0)\n",
    "    ax.yaxis.set_ticks_position('left')\n",
    "    ax.spines['left'].set_position(('data',0))\n",
    "    #plt.legend()            # affiche la légende\n",
    "    plt.title(title)        # affiche un titre\n"
   ]
  },
  {
   "cell_type": "markdown",
   "metadata": {},
   "source": [
    "<div class=\"alert alert-warning\">\n",
    "<b>Travail à faire : </b> Compléter la ligne de code ci-dessous, en tenant compte des paramètres de la fonction <font color=red><i>nuagedepoints</i></font>, pour afficher la trajectoire du ballon $y=f(x)$.\n",
    "<br>\n",
    "<br>\n",
    "<details>\n",
    "<summary>Aide n°1</summary>\n",
    "<p>Les coordonnées des abscisses sont stockées dans une liste nommée $x$.Les coordonnées des ordonnées sont stockées dans une liste nommée $y$.</p>\n",
    "</details>\n",
    "<br>\n",
    "<details>\n",
    "<summary>Aide n°2</summary>\n",
    "<p>Les titres doivent être écrits entre guillemets.</p>\n",
    "</details>\n",
    "<br>\n",
    "</div>\n"
   ]
  },
  {
   "cell_type": "code",
   "execution_count": null,
   "metadata": {},
   "outputs": [],
   "source": [
    "nuagedepoints(---A COMPLETER---) \n",
    "\n",
    "plt.show() # affiche le graphique"
   ]
  },
  {
   "cell_type": "markdown",
   "metadata": {},
   "source": [
    "## Définition du vecteur variation de vitesse entre deux points consécutifs\n",
    "<br>\n",
    "Le vecteur variation de vitesse entre les points $M_{i}$ et $M_{i+1}$, noté $\\Delta \\vec v_{i \\rightarrow i+1}$ est défini par:<br>\n",
    "<br>\n",
    "<center>$\\Delta \\vec v_{i \\rightarrow i+1}$ = $\\Delta \\vec v_{i}$ = $\\vec v_{i+1}$ - $\\vec v_{i}$ </center><br>\n",
    "<br>\n",
    "\n",
    "### Exercice 1 : Tracé de la construction du vecteur variation de vitesse  $\\Delta \\vec v_{0 \\rightarrow 1}$  avec Python\n",
    "<div class=\"alert alert-success\" role=\"alert\">\n",
    "Exécuter le bloc ci-dessous aprés avoir lu la description de la fonction (les 3 lignes en rouges).</div>"
   ]
  },
  {
   "cell_type": "code",
   "execution_count": null,
   "metadata": {},
   "outputs": [],
   "source": [
    "\"\"\"\n",
    "Fonction générant la construction du vecteur variation vitesse entre les points Mi et Mi+1\n",
    "Entrées : oordonnées des abscisses du point M, coordonnées des ordonnées du point M, dates t, valeur de i, échelle\n",
    "Résultat : Tracé de la différence des vecteurs vitesse vi+1 - vi tracé au point Mi+1\n",
    "\"\"\"\n",
    "def construction_vecteur_variation_vitesse (abscisses,ordonnees,dates,value_i,echelle):\n",
    "    # pour agrandir la longueur du vecteur représentant le vecteur vitesse, diminuer la valeur de l'échelle\n",
    "    x=abscisses\n",
    "    y=ordonnees\n",
    "    t=dates\n",
    "    i=value_i\n",
    "    vx_i=(x[i+1]-x[i])/(t[i+1]-t[i])\n",
    "    vy_i=(y[i+1]-y[i])/(t[i+1]-t[i])\n",
    "    vx_i1=(x[i+2]-x[i+1])/(t[i+2]-t[i+1])\n",
    "    vy_i1=(y[i+2]-y[i+1])/(t[i+2]-t[i+1])\n",
    "    plt.quiver(x[i], y[i] ,vx_i, vy_i,scale_units='xy',angles='xy', scale=echelle, color='blue',width=0.005)\n",
    "    plt.quiver(x[i+1], y[i+1] ,vx_i1, vy_i1,scale_units='xy',angles='xy', scale=echelle, color='green',width=0.005)\n",
    "    numero_i=str(i)\n",
    "    numero_i1=str(i+1)\n",
    "    table = str.maketrans({str(j):chr(0x2080 + j) for j in range(10)})\n",
    "    indice_i=numero_i.translate(table)\n",
    "    indice_i1=numero_i1.translate(table)\n",
    "    df=max(max(x)-min(x),max(y)-min(y))/20\n",
    "    plt.text(x[i]+vx_i/(2*echelle),y[i]+vy_i/(2*echelle)+df,r\"$\\vec v$\"+indice_i, color='blue',fontsize=20,\\\n",
    "    horizontalalignment='center', verticalalignment='center')\n",
    "    plt.text(x[i+1]+vx_i1/(2*echelle),y[i+1]+vy_i1/(2*echelle)+df,r\"$\\vec v$\"+indice_i1, color='green',fontsize=20,\\\n",
    "    horizontalalignment='center', verticalalignment='center')\n",
    "    #plt.text(min(min(x),min(y)),min(min(x),min(y))-df,'Echelle vitesse : 1,0 cm $\\Leftrightarrow$ 1,0 m/s',\\\n",
    "    #color='blue',fontsize=20)\n",
    "    plt.quiver(x[i+1]+vx_i1/echelle, y[i+1]+vy_i1/echelle ,-vx_i, -vy_i,scale_units='xy',angles='xy', scale=echelle, color='blue',width=0.005)\n",
    "    plt.text(x[i+1]+vx_i1/(2*echelle)+df,y[i+1]+vy_i1/(2*echelle)-df,r\"$-\\vec v$\"+indice_i, color='blue',fontsize=20,\\\n",
    "    horizontalalignment='center', verticalalignment='center')\n",
    "    plt.quiver(x[i+1], y[i+1] ,vx_i1-vx_i, vy_i1-vy_i,scale_units='xy',angles='xy', scale=echelle, color='red',width=0.005)\n",
    "    plt.text(x[i+1]-2*df,y[i+1]-df,r\"$\\Delta \\vec v$\"+indice_i+r\"$\\rightarrow$\"+indice_i1, color='red',fontsize=20,\\\n",
    "    horizontalalignment='center', verticalalignment='center')  "
   ]
  },
  {
   "cell_type": "markdown",
   "metadata": {},
   "source": [
    "<div class=\"alert alert-warning\">\n",
    "<b>Travail à faire : </b> Compléter la ligne de code ci-dessous, en tenant compte des paramètres de la fonction <font color=red><i>construction_vecteur_variation_vitesse</i></font>, pour afficher le tracé du vecteur variation de vitesse  $\\Delta \\vec v_{0 \\rightarrow 1}$.\n",
    "<br>\n",
    "<br>\n",
    "<details>\n",
    "<summary>Aide n°1</summary>\n",
    "<p>Les coordonnées des abscisses sont stockées dans une liste nommée $x$.Les coordonnées des ordonnées sont stockées dans une liste nommée $y$.</p>\n",
    "</details>\n",
    "<br>\n",
    "<details>\n",
    "<summary>Aide n°2</summary>\n",
    "<p>Les dates sont stockées dans une liste nommée $t$.</p>\n",
    "</details>\n",
    "<br>\n",
    "<details>\n",
    "<summary>Aide n°3</summary>\n",
    "    <p>Pour le vecteur variation de vitesse  $\\Delta \\vec v_{0 \\rightarrow 1}$, la valeur de i vaut $0$. </p>\n",
    "</details>\n",
    "<br>\n",
    "</div>"
   ]
  },
  {
   "cell_type": "code",
   "execution_count": null,
   "metadata": {},
   "outputs": [],
   "source": [
    "nuagedepoints(x,y,'x (en m)','y (en m)','')\n",
    "\n",
    "# choisir une échelle égale à 2\n",
    "construction_vecteur_variation_vitesse(---A COMPLETER---)\n",
    "\n",
    "\n",
    "\n",
    "plt.show()"
   ]
  },
  {
   "cell_type": "markdown",
   "metadata": {},
   "source": [
    "### Exercice 2 : Tracé du vecteur variation de vitesse  $\\Delta \\vec v_{0 \\rightarrow 1}$ à partir de la chronophotographie imprimée\n",
    "<br>\n",
    "\n",
    "<div class=\"alert alert-info\">\n",
    "<b>Travail à faire : </b> À partir de la chronophotographie imprimée, suivre les étapes décrites ci-dessous :\n",
    "<br>\n",
    "\n",
    "<ul><li>Etape n°1 : Déterminer l'échelle des distances grâce aux axes</li><br>\n",
    "<li>Etape n°2 : Ecrire, sur la chronophotographie, l'échelle des distances sous la forme \"échelle des distances : ... cm $\\Leftrightarrow$ 10 m\"</li><br>\n",
    "<li>Etape n°3 : Mesurer le segment [$M_{0}M_{1}$] sur le papier et calculer la longueur réelle $M_{0}M_{1}$</li><br>\n",
    "<li>Etape n°4 : Calculer la norme : $v_{0}$ = $\\frac{M_{0}M_{1}}{\\Delta{t}}$</li><br><br>\n",
    "\n",
    "<li>Etape n°4 bis : Faire de même pour calculer la norme : $v_{1}$ = $\\frac{M_{1}M_{2}}{\\Delta{t}}$</li><br><br>\n",
    "<li>Etape n°5 : Ecrire, sur la chronophotographie,  l'échelle des vitesses sous la forme \"échelle des vitesses : 1,0 cm $\\Leftrightarrow$ 1,0 m/s\"</li><br>\n",
    "<li>Etape n°6 : Calculer la longueur des vecteurs $\\vec v_{0}$ et $\\vec v_{1}$ à l'aide de votre échelle</li><br>\n",
    "<li>Etape n°7 : Sur le papier, tracer au crayon de papier la droite ($M_{0}M_{1}$) en la prolongeant du côté de $M_{1}$</li><br>\n",
    "<li>Etape n°8 : Tracer le vecteur vitesse $\\vec v_{0}$ en partant du point $M_{0}$</li><br><br>\n",
    "\n",
    "<li>Etape n°8 bis : Faire de même pour tacer le vecteur vitesse $\\vec v_{1}$ en partant du point $M_{1}$</li><br><br>\n",
    "\n",
    "<li>Etape n°9 : Tracer le vecteur $- \\vec v_{0}$ en partant du bout du vecteur $\\vec v_{1}$</li><br>\n",
    "<li>Etape n°10 : Tracer le vecteur variation de vitesse $\\Delta \\vec v_{0 \\rightarrow 1}$ en partant du point $M_{1}$ jusqu'au bout du vecteur $- \\vec v_{0}$</li></ul>\n",
    " <br></div>"
   ]
  },
  {
   "cell_type": "markdown",
   "metadata": {},
   "source": [
    "### Exercice 3 : Tracé du vecteur variation de vitesse  $\\Delta \\vec v_{0 \\rightarrow 1}$  avec Python\n",
    "\n",
    "<div class=\"alert alert-success\" role=\"alert\">\n",
    "Exécuter le bloc ci-dessous aprés avoir lu la description de la fonction (les 3 lignes en rouges).</div>"
   ]
  },
  {
   "cell_type": "code",
   "execution_count": null,
   "metadata": {},
   "outputs": [],
   "source": [
    "\"\"\"\n",
    "Fonction traçant le vecteur variation vitesse entre les points Mi et Mi+1\n",
    "Entrées : coordonnées des abscisses du point M, coordonnées des ordonnées du point M, dates t, valeur de i, échelle\n",
    "Résultat : le vecteur variation vitesse tracé au point Mi+1\n",
    "\"\"\"\n",
    "\n",
    "def vecteur_variation_vitesse(abscisses,ordonnees,dates,value_i,echelle):\n",
    "    x=abscisses\n",
    "    y=ordonnees\n",
    "    t=dates\n",
    "    i=value_i\n",
    "    vx_i=(x[i+1]-x[i])/(t[i+1]-t[i])\n",
    "    vy_i=(y[i+1]-y[i])/(t[i+1]-t[i])\n",
    "    vx_i1=(x[i+2]-x[i+1])/(t[i+2]-t[i+1])\n",
    "    vy_i1=(y[i+2]-y[i+1])/(t[i+2]-t[i+1])\n",
    "    numero_i=str(i)\n",
    "    numero_i1=str(i+1)\n",
    "    table = str.maketrans({str(j):chr(0x2080 + j) for j in range(10)})\n",
    "    indice_i=numero_i.translate(table)\n",
    "    indice_i1=numero_i1.translate(table)\n",
    "    df=max(max(x)-min(x),max(y)-min(y))/20\n",
    "    plt.quiver(x[i+1], y[i+1] ,vx_i1-vx_i, vy_i1-vy_i,scale_units='xy',angles='xy', scale=echelle, color='red',width=0.005)\n",
    "    plt.text(x[i+1]-2*df,y[i+1]-df,r\"$\\Delta \\vec v$\"+indice_i+r\"$\\rightarrow$\"+indice_i1, color='red',fontsize=20,\\\n",
    "    horizontalalignment='center', verticalalignment='center')"
   ]
  },
  {
   "cell_type": "markdown",
   "metadata": {},
   "source": [
    "<div class=\"alert alert-warning\">\n",
    "<b>Travail à faire : </b> Compléter la ligne de code ci-dessous, en tenant compte des paramètres de la fonction <font color=red><i>vecteur_variation_vitesse</i></font>, pour afficher le tracé du vecteur variation de vitesse  $\\Delta \\vec v_{0 \\rightarrow 1}$.\n",
    "<br>\n",
    "<br>\n",
    "<details>\n",
    "<summary>Aide n°1</summary>\n",
    "<p>Les coordonnées des abscisses sont stockées dans une liste nommée $x$.Les coordonnées des ordonnées sont stockées dans une liste nommée $y$.</p>\n",
    "</details>\n",
    "<br>\n",
    "<details>\n",
    "<summary>Aide n°2</summary>\n",
    "<p>Les dates sont stockées dans une liste nommée $t$.</p>\n",
    "</details>\n",
    "<br>\n",
    "<details>\n",
    "<summary>Aide n°3</summary>\n",
    "    <p>Pour le vecteur variation de vitesse  $\\Delta \\vec v_{0 \\rightarrow 1}$, la valeur de i vaut $0$. </p>\n",
    "</details>\n",
    "<br>\n",
    "</div>"
   ]
  },
  {
   "cell_type": "code",
   "execution_count": null,
   "metadata": {},
   "outputs": [],
   "source": [
    "nuagedepoints(x,y,'x (en m)','y (en m)','')\n",
    "\n",
    "# choisir une échelle égale à 1\n",
    "vecteur_variation_vitesse(---A COMPLETER---)\n",
    "\n",
    "plt.show()"
   ]
  },
  {
   "cell_type": "markdown",
   "metadata": {},
   "source": [
    "### Exercice 4 : Ecrire une boucle permettant de tracer l'ensemble des vecteurs variation de vitesse $\\Delta \\vec v_{i \\rightarrow i+1}$ avec Python\n",
    "\n",
    "<br>\n",
    "<div class=\"alert alert-warning\">\n",
    "<b>Travail à faire : </b> Compléter la boucle $for$ pour afficher la représentation de l'ensemble des vecteurs variation de vitesse.\n",
    "<br>\n",
    "<br>\n",
    "<details>\n",
    "<summary>Aide n°1</summary>\n",
    "<p>Dans la boucle $for \\ i \\ in \\ range(a)$, i prend les valeurs entières appartenant à l'intervalle [0;a[ avec un pas égal à 1.</p>\n",
    "</details>\n",
    "<br>\n",
    "<details>\n",
    "<summary>Aide n°2</summary>\n",
    "<p>La longueur d'une liste nommée $x$ est obtenue avec la fonction $len(x)$</p>\n",
    "</details>\n",
    "<br>\n",
    "<details>\n",
    "<summary>Aide n°3</summary>\n",
    "<p>Avec une chronophotographie comportant les points allant de $M_0$ à $M_9$, il est possible de tracer les vecteurs vitesses instantanées approchées allant de $\\vec v_{0}$ à $\\vec v_{8}$. On ne peut donc tracer ques les vecteurs variation de vitesse allant de $\\Delta \\vec v_{0 \\rightarrow 1}$  à $\\Delta \\vec v_{7 \\rightarrow 8}$ </p>\n",
    "</details>\n",
    "<br>\n",
    "    <details>\n",
    "<summary>Aide n°4</summary>\n",
    "<p>Dans la fonction <font color=red><i>vecteur_variation_vitesse</i></font>, le paramètre $value$_$i$ doit être le même que celui de la boucle $for$</p>\n",
    "</details>\n",
    "<br>\n",
    "</div>\n"
   ]
  },
  {
   "cell_type": "code",
   "execution_count": null,
   "metadata": {},
   "outputs": [],
   "source": [
    "nuagedepoints(x,y,'x (en m)','y (en m)','')\n",
    "\n",
    "for i in range(---A COMPLETER---):\n",
    "    vecteur_variation_vitesse(---A COMPLETER---)\n",
    "\n",
    "    \n",
    "plt.show()"
   ]
  },
  {
   "cell_type": "markdown",
   "metadata": {},
   "source": [
    "<div class=\"alert alert-info\">\n",
    "<b>Travail à faire : </b> Répondre aux questions.\n",
    "<br>\n",
    "<ol><li>Que constatez-vous ?<br></li>\n",
    "<li>Indiquer les caractéristiques du vecteur variation de vitesse $\\Delta \\vec v_{i \\rightarrow i+1}$. <br></li></ol>\n",
    "<br>\n",
    "    </div>\n",
    "\n",
    "### Exercice 5 : Réaliser un bilan des forces\n",
    "<div class=\"alert alert-info\">\n",
    "<b>Travail à faire : </b> Répondre aux questions suivantes.\n",
    "<br>\n",
    "<ol><li>Dans un référentiel terrestre, faire le bilan des forces s'appliquant sur le système.<br></li>\n",
    "<li>Dans un repère Oxy, tracer le vecteur somme des forces extérieures $\\Sigma \\vec F_{ext}$ s'appliquant sur le système.<br></li>\n",
    "<li>Indiquer les caractéristiques du vecteur somme des forces extérieures $\\Sigma \\vec F_{ext}$.<br></li>\n",
    "<li>Les comparer avec celles du vecteur variation de vitesse $\\Delta \\vec v_{i \\rightarrow i+1}$. <br></li> \n",
    "</ol>\n",
    "<br>\n",
    "    </div>\n",
    "<br><br>\n",
    "\n",
    "\n",
    "## Situation n°2 : Etude du mouvement de rotation d'un mobile autoporteur autour d'un axe fixe <br>\n",
    "Regarder les <b>15 premières secondes</b> de la vidéo suivante : https://youtu.be/FMDICMAX3VM?t=223<br>\n",
    "\n",
    "Le mobile autoporteur génère un coussin d'air entre lui et la table. Cela permet de pouvoir négliger les frottements avec la table lors de son mouvement.<br>\n",
    "\n",
    "Un pointage a été réalisé sur le système {mobile autoporteur} de masse m = 615 g assimilé à un point matériel M durant une demi rotation (après que le mobile autoporteur ait quitté le bord et avant qu'il ne le touche à nouveau). Il a été enregistré dans le fichier *mobile autoporteur.txt*.<br>\n",
    "\n",
    "Refaire l'ensemble des exercices. Pour cela, aller dans le menu \"Kernel\" > \"Restart & Clear Output\". \n",
    "<img src=\"Jupyter_Kernel_Restart.jpg\">\n",
    "<br><br>\n",
    "Après avoir lu les consignes ci-dessous, revenir au début du fichier Jupyter, modifier le fichier à importer (en modifiant deux #) et faire les exercices :\n",
    "<ul><li>Pour le tracé des vecteurs avec Python, choisir une échelle égale à 2.</li><br>\n",
    "<li>Pour le tracé des vecteurs sur papier, choisir une \"*échelle des distances : ... cm $\\Leftrightarrow$ 400 mm*\" et une \"*échelle des vitesses : 1,0 cm $\\Leftrightarrow$ 0,05 m/s*\"</li></ul>\n"
   ]
  },
  {
   "cell_type": "code",
   "execution_count": null,
   "metadata": {},
   "outputs": [],
   "source": []
  }
 ],
 "metadata": {
  "kernelspec": {
   "display_name": "Python 3",
   "language": "python",
   "name": "python3"
  },
  "language_info": {
   "codemirror_mode": {
    "name": "ipython",
    "version": 3
   },
   "file_extension": ".py",
   "mimetype": "text/x-python",
   "name": "python",
   "nbconvert_exporter": "python",
   "pygments_lexer": "ipython3",
   "version": "3.7.6"
  }
 },
 "nbformat": 4,
 "nbformat_minor": 4
}
