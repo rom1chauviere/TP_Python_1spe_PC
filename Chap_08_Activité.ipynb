{
 "cells": [
  {
   "cell_type": "markdown",
   "metadata": {},
   "source": [
    "# <center>Visualiser l'évolution des quantités de matières<br>lors d'une transformation chimique</center>\n",
    "\n",
    "\n",
    "\n",
    "<div class=\"alert alert-info\" role=\"alert\">\n",
    "Un notebook Jupyter est composé de deux types de cellules :<br>\n",
    "<ul><li> des cellules contenant du <b>texte</b> qu'il est nécessaire <b>de lire pour suivre correctement les consignes</b> ;</li><br>\n",
    "<li>des cellules contenant du <b>code Python</b> qu'il est nécessaire <b>d'éxécuter dans l'ordre d'apparition</b>.</li></ul><br>\n",
    "<br>\n",
    "<b>Pour exécuter une cellule sélectionnée</b> (encadrée en vert), il faut cliquer :<br>\n",
    "<ul><li>sur le bouton \"Exécuter\" situé à côté de la cellule<br><img src=\"Jupyter_Executer.bis.jpg\"></li><br>\n",
    "<li>ou sur le bouton \"Exécuter\" dans le bandeau supérieur.\n",
    "<br>\n",
    "<center><img src=\"Jupyter_Executer.jpg\"></center><br></li></ul>\n",
    "</div>"
   ]
  },
  {
   "cell_type": "markdown",
   "metadata": {},
   "source": [
    "<div class=\"alert alert-danger\" role=\"alert\">\n",
    "<center><font size=\"5\">Ne modifier que la partie du code contenant ---A COMPLETER---</font></center>\n",
    "</div>\n",
    "<br>\n",
    "\n",
    "## I. Etude de trois transformations chimiques entre une solution aqueuse d'hydroxyde de sodium et une solution aqueuse de sulfate de cuivre\n",
    "\n",
    "Les trois transformations chimiques réalisées en TP conduisent à la formation d'un précipité bleu d'hydroxyde de cuivre Cu(OH)₂(s).<br><br>\n",
    "Elles peuvent être modélisées par une unique réaction chimique d'équation :<br><br>\n",
    "<center><font size=\"3\">$Cu²⁺(aq) + 2 \\ HO⁻(aq) \\rightarrow Cu(OH)₂(s)$</font></center>\n",
    "\n",
    "<br>\n",
    "<div class=\"alert alert-warning\">\n",
    "<b>Travail à faire : </b> Compléter la valeur du nombre stoechiométrique de chaque espèce chimique.<br><br>\n",
    "    <i><b>Remarque</b> : La valeur doit être négative pour les réactifs et positive pour les produits.</i>\n",
    "</div>"
   ]
  },
  {
   "cell_type": "code",
   "execution_count": null,
   "metadata": {},
   "outputs": [],
   "source": [
    "nom_espece_1=\"Cu²⁺\"     # formule de l'espèce chimique n°1\n",
    "coef_espece_1= ---A COMPLETER---        # nombre stoechiométrique de l'espèce chimique n°1\n",
    "\n",
    "nom_espece_2=\"HO⁻\"      # formule de l'espèce chimique n°2\n",
    "coef_espece_2= ---A COMPLETER---        # nombre stoechiométrique de l'espèce chimique n°2\n",
    "\n",
    "nom_espece_3=\"Cu(OH)₂\"  # formule de l'espèce chimique n°3\n",
    "coef_espece_3= ---A COMPLETER---         # nombre stoechiométrique de l'espèce chimique n°3"
   ]
  },
  {
   "cell_type": "markdown",
   "metadata": {},
   "source": [
    "### Etude des fonctions python\n",
    "\n",
    "<div class=\"alert alert-success\" role=\"alert\">\n",
    "Dans le menu de Jupyter, cliquer sur View > Toggle Line Number.<br><br>\n",
    "Lire (et comprendre) la description (les lignes rouges) de la première fonction Python ci-dessous.</div>    \n",
    "    \n",
    "<b>Questions pour la première fonction Python :</b><br>\n",
    "<ul><li>Donner le nom de la fonction.</li><br>\n",
    "<li>Donner le nombre de paramètres attendu par la fonction.</li><br>\n",
    "<li>Indiquer le numéro de la ligne permettant de calculer une valeur supplémentaire de l'avancement x.</li><br>\n",
    "<li>Indiquer le numéro de la ligne permettant de calculer la quantité restante d'ions cuivre pour un avancement x.</li><br>\n",
    "<li>Indiquer le numéro de la ligne permettant de calculer la quantité restante d'ions hydroxyde pour un avancement x.</li><br>\n",
    "<li>Indiquer le numéro de la ligne permettant de calculer la quantité formée d'hydroxyde de cuivre pour un avancement x.</li></ul><br>\n",
    " \n",
    "<div class=\"alert alert-success\" role=\"alert\">    \n",
    "    Exécuter le bloc ci-dessous.<br>\n",
    "</div>"
   ]
  },
  {
   "cell_type": "code",
   "execution_count": null,
   "metadata": {},
   "outputs": [],
   "source": [
    "# importation d'un module\n",
    "from matplotlib import pyplot as plt\n",
    "\n",
    "\n",
    "# Définition de la fonction\n",
    "\"\"\"\n",
    "Fonction simulant l'évolution des quantités de matière des réactifs et du produit en fonction de l'avancement\n",
    "lors de la tranformation chimique\n",
    "Entrées : quantité initiale d'ions cuivre Cu²⁺(aq) (en mol), quantité initiale d'ions hydroxyde HO⁻(aq) (en mol),\n",
    "          quantité initiale d'hydroxyde de cuivre Cu(OH)₂(s) (en mol)\n",
    "Résultat : affiche un graphique correspondand à l'évolution des quantités de matière des espèces chimiques\n",
    "           en fonction de l'avancement\n",
    "\"\"\"\n",
    "\n",
    "def simulation(ni_1,ni_2,ni_3):\n",
    "    fig = plt.figure(figsize=(8,8))\n",
    "                            # taille de l'affichage du graphique\n",
    "    ax = fig.add_subplot(1, 1, 1)\n",
    "    n_espece_1=[ni_1]   # Début d'une liste pour l'évolution de la quantité d'ions cuivre Cu²⁺(aq) (en mol)\n",
    "    n_espece_2=[ni_2]   # Début d'une liste pour l'évolution de la quantité d'ions hydroxyde HO⁻(aq) (en mol)\n",
    "    n_espece_3=[ni_3]   # Début d'une liste pour l'évolution de la quantité d'hydroxyde de cuivre Cu(OH)₂(s) (en mol)\n",
    "    \n",
    "    x = [0]             # Début d'une liste correspond à l'évolution de l'avancement x (en mol)\n",
    "    dx = 1e-5           # définition du pas de l'avancement\n",
    "\n",
    "    # tant qu'il reste au moins un des réactifs ([-1] : dernière valeur de la liste)\n",
    "    while n_espece_1[-1]>0 and n_espece_2[-1]>0:               \n",
    "        # augmentation de l'avancement de la valeur du pas\n",
    "        x.append(x[-1] + dx)                                   \n",
    "        # quantité d'ions cuivre Cu²⁺(aq) pour un avancement x\n",
    "        n_espece_1.append(n_espece_1[0]+coef_espece_1*x[-1])   \n",
    "        # quantité d'ions hydroxyde HO⁻(aq) pour un avancement x\n",
    "        n_espece_2.append(n_espece_2[0]+coef_espece_2*x[-1])\n",
    "        # quantité d'hydroxyde de cuivre Cu(OH)₂(s) pour un avancement x\n",
    "        n_espece_3.append(n_espece_3[0]+coef_espece_3*x[-1])\n",
    "    \n",
    "    # Trace en rouge l'évolution de la quantité d'ions cuivre Cu²⁺(aq) en fonction de l'avancement x\n",
    "    ax.plot(x, n_espece_1, linestyle=\"-\", linewidth=\"1\",color=\"red\",\n",
    "            label=\"n({}) = nᵢ({}){}x\".format(nom_espece_1,nom_espece_1,coef_espece_1))\n",
    "\n",
    "    # Trace en bleu l'évolution de la quantité d'ions hydroxyde HO⁻(aq) en fonction de l'avancement x\n",
    "    ax.plot(x, n_espece_2, linestyle=\"-\", linewidth=\"1\",color=\"blue\",\n",
    "            label=\"n({}) = nᵢ({}){}x\".format(nom_espece_2,nom_espece_2,coef_espece_2))\n",
    "    \n",
    "    # Trace en vert l'évolution de la quantité d'hydroxyde de cuivre Cu(OH)₂(s) en fonction de l'avancement x\n",
    "    ax.plot(x, n_espece_3, linestyle=\"-\", linewidth=\"1\",color=\"green\",\n",
    "            label=\"n({}) = nᵢ({})+{}x\".format(nom_espece_3,nom_espece_3,coef_espece_3))\n",
    "    \n",
    "    \n",
    "    plt.xlabel(\"avancement x (en mol)\",ha='right',fontstyle='italic',x=1.0)\n",
    "    plt.ylabel(\"quantité de matière (en mol)\",fontstyle='italic',rotation=0,ha='right',va='top',y=1.0)\n",
    "    ax.set_xticks([0,1*x[-1]/4,2*x[-1]/4,3*x[-1]/4,4*x[-1]/4])      # graduations de l'axe des abscisses\n",
    "    plt.xlim(0,1.2*x[-1])                                           # limites de l'axe des abscisses\n",
    "    plt.ylim(0,1.2*max(n_espece_1[0],n_espece_2[0]))                # limites de l'axe des ordonnées\n",
    "    ax.spines['right'].set_color('none')\n",
    "    ax.spines['top'].set_color('none')\n",
    "    ax.xaxis.set_ticks_position('bottom')\n",
    "    ax.spines['bottom'].set_position(('data',0))\n",
    "    ax.yaxis.set_ticks_position('left')\n",
    "    ax.spines['left'].set_position(('data',0))\n",
    "    plt.legend(fontsize=14)                                                    # affiche la légende\n",
    "    plt.grid(which='both')\n",
    "    plt.minorticks_on()\n",
    "    plt.grid(b=True, which='minor', color='#999999', linestyle='-', alpha=0.2)\n",
    "    plt.title(\"Evolution des quantités de matière en fonction de l'avancement\") # affiche un titre\n",
    "    plt.show()"
   ]
  },
  {
   "cell_type": "markdown",
   "metadata": {},
   "source": [
    "<div class=\"alert alert-success\" role=\"alert\">\n",
    "Lire (et comprendre) la description (les lignes rouges) de la seconde fonction Python ci-dessous.</div>    \n",
    "    \n",
    "<b>Questions pour la seconde fonction Python :</b><br>\n",
    "<ul><li>Donner le nom de la fonction.</li><br>\n",
    "<li>Donner le nombre de paramètres attendu par la fonction.</li><br>\n",
    "<li>Indiquer le numéro de la ligne permettant de calculer une valeur supplémentaire de l'avancement x.</li><br>\n",
    "<li>Indiquer le numéro de la ligne permettant de calculer la quantité restante d'ions cuivre pour un avancement x.</li><br>\n",
    "<li>Indiquer le numéro de la ligne permettant de calculer la quantité restante d'ions hydroxyde pour un avancement x.</li><br>\n",
    "<li>Indiquer le numéro de la ligne permettant de calculer la quantité formée d'hydroxyde de cuivre pour un avancement x.</li></ul><br>\n",
    " \n",
    "<div class=\"alert alert-success\" role=\"alert\">    \n",
    "    Exécuter le bloc ci-dessous.<br>\n",
    "</div>"
   ]
  },
  {
   "cell_type": "code",
   "execution_count": null,
   "metadata": {},
   "outputs": [],
   "source": [
    "#importation d'un module\n",
    "from decimal import Decimal, localcontext\n",
    "# le module decimal permet de gérer au mieux les opérations arithmétiques avec des nombres décimaux\n",
    "\n",
    "# Définition de la fonction\n",
    "\"\"\"\n",
    "Fonction calculant les quantités de matière des réactifs et du produit pour plusieurs valeurs d'avancement\n",
    "lors de la tranformation chimique\n",
    "Entrées : quantité initiale d'ions cuivre Cu²⁺(aq) (en mol), quantité initiale d'ions hydroxyde HO⁻(aq) (en mol),\n",
    "          quantité initiale d'hydroxyde de cuivre Cu(OH)₂(s) (en mol)\n",
    "Résultat : affiche un tableau correspondand aux quantités de matière des espèces chimiques pour un avancement x\n",
    "\"\"\"\n",
    "\n",
    "def tableau(ni_1,ni_2,ni_3):\n",
    "    especes=[\"Cu²⁺\",\"HO⁻\",\"Cu(OH)₂\"]                                # formule des espèces chimiques\n",
    "    coefficients=[coef_espece_1,coef_espece_2,coef_espece_3]        # nombre stoechiométrique des espèces chimiques    \n",
    "    i = Decimal('1.0')                                            # avancement initial (en mol)   \n",
    "    etat_init = [i*Decimal(str(ni_1)),i*Decimal(str(ni_2)),i*Decimal(str(ni_3))] # quantités de matière initiales (en mol)\n",
    "    etat_inter = etat_init[:]                                        # initialisation de l'état intermediaireprint(etat_inter)\n",
    "    x = Decimal('0.0e-4')                                            # avancement initial (en mol)\n",
    "    dx = max(etat_inter)/20                                          # définition du pas de l'avancement\n",
    "    print(\"Après un avancement x (en mol), les quantités de matière des espèces chimiques valent (en mol) :\")\n",
    "    # affichage du titre des colonnes du tableau d'avancement (avancement et formule des espèces chimiques)\n",
    "    print(\"x\",\"\\t\",\"\\t\",especes[0],\"\\t\",\"\\t\",especes[1],\"\\t\",\"\\t\",especes[2])   \n",
    "    print(\"====== Etat initial ======\")\n",
    "    with localcontext() as ctx:\n",
    "        # choix du nombre maximal de chiffres significatifs à afficher\n",
    "        ctx.prec=3                                                              \n",
    "        # affichage de l'état initial du tableau d'avancement (avancement et quantité de matière des espèces chimiques)\n",
    "        print(x,\"\\t\",etat_inter[0],\"\\t\",etat_inter[1],\"\\t\",etat_inter[2])       \n",
    "\n",
    "    print(\"====== Etat en cours ======\")\n",
    "    # tant qu'il reste au moins un des réactifs\n",
    "    while etat_inter[0]>0 and etat_inter[1]>0:                                  \n",
    "        # augmentation de l'avancement de la valeur du pas\n",
    "        x = x + dx\n",
    "        # quantité d'ions cuivre Cu²⁺(aq) pour un avancement x\n",
    "        etat_inter[0] = etat_init[0] + coefficients[0]*x\n",
    "        # quantité d'ions hydroxyde HO⁻(aq) pour un avancement x\n",
    "        etat_inter[1] = etat_init[1] + coefficients[1]*x\n",
    "        # quantité d'hydroxyde de cuivre Cu(OH)₂(s) pour un avancement x\n",
    "        etat_inter[2] = etat_init[2] + coefficients[2]*x\n",
    "        with localcontext() as ctx:\n",
    "            # choix du nombre maximal de chiffres significatifs à afficher\n",
    "            ctx.prec=3\n",
    "            # affichage de l'état intermédiaire du tableau d'avancement (avancement et quantité de matière des espèces chimiques)\n",
    "            print(x,\"\\t\",etat_inter[0],\"\\t\",etat_inter[1],\"\\t\",etat_inter[2])"
   ]
  },
  {
   "cell_type": "markdown",
   "metadata": {},
   "source": [
    "### 1. Etude de la transformation n°1\n",
    "\n",
    "<div class=\"alert alert-warning\">\n",
    "<b>Travail à faire : </b> A l'aide de votre compte-rendu de TP, compléter la ligne de code ci-dessous afin de visualiser l’évolution des quantités de matière pour la transformation n°1.<br><br>\n",
    "    <i><b>Aide</b> : $1,5 \\times 10^{-3}$ s'écrit $1.5e-3$.</i>\n",
    "</div>"
   ]
  },
  {
   "cell_type": "code",
   "execution_count": null,
   "metadata": {},
   "outputs": [],
   "source": [
    "print(\"***********************TRANSFORMATION N°1***********************\")\n",
    "simulation(---A COMPLETER---)"
   ]
  },
  {
   "cell_type": "markdown",
   "metadata": {},
   "source": [
    "<div class=\"alert alert-success\" role=\"alert\">\n",
    "<b>Questions pour la transformation n°1 :</b><br>\n",
    "1.1 Déterminer graphiquement le réactif limitant et la valeur de l’avancement final.<br>\n",
    "1.2\tDéterminer graphiquement les quantités de matière à l’état final des espèces chimiques en supposant la transformation chimique totale.</div><br>\n",
    "\n",
    "<div class=\"alert alert-warning\">\n",
    "<b>Travail à faire : </b> Vérifier vos réponses précédentes en complétant la ligne de code ci-dessous afin de d'afficher le tableau contenant les quantités de matière pour un avancement x.<br>\n",
    "</div>"
   ]
  },
  {
   "cell_type": "code",
   "execution_count": null,
   "metadata": {},
   "outputs": [],
   "source": [
    "print(\"***********************TRANSFORMATION N°1***********************\")\n",
    "tableau(---A COMPLETER---)"
   ]
  },
  {
   "cell_type": "markdown",
   "metadata": {},
   "source": [
    "### 2. Etude de la transformation n°2\n",
    "\n",
    "\n",
    "<div class=\"alert alert-warning\">\n",
    "<b>Travail à faire : </b> Ecrire une ligne de code afin de visualiser l’évolution des quantités de matière pour la transformation n°2.<br>\n",
    "</div>"
   ]
  },
  {
   "cell_type": "code",
   "execution_count": null,
   "metadata": {},
   "outputs": [],
   "source": [
    "print(\"***********************TRANSFORMATION N°2***********************\")\n",
    "---A COMPLETER---"
   ]
  },
  {
   "cell_type": "markdown",
   "metadata": {},
   "source": [
    "<div class=\"alert alert-success\" role=\"alert\">\n",
    "<b>Questions pour la transformation n°2 :</b><br>\n",
    "2.1 Déterminer graphiquement le réactif limitant et la valeur de l’avancement final.<br>\n",
    "2.2\tDéterminer graphiquement les quantités de matière à l’état final des espèces chimiques en supposant la transformation chimique totale.</div><br>\n",
    "\n",
    "<div class=\"alert alert-warning\">\n",
    "<b>Travail à faire : </b> Vérifier vos réponses précédentes en écrivant une ligne de code afin de d'afficher le tableau contenant les quantités de matière pour un avancement x.<br>\n",
    "</div>"
   ]
  },
  {
   "cell_type": "code",
   "execution_count": null,
   "metadata": {},
   "outputs": [],
   "source": [
    "print(\"***********************TRANSFORMATION N°2***********************\")\n",
    "---A COMPLETER---"
   ]
  },
  {
   "cell_type": "markdown",
   "metadata": {},
   "source": [
    "### 3. Etude de la transformation n°3\n",
    "\n",
    "\n",
    "<div class=\"alert alert-warning\">\n",
    "<b>Travail à faire : </b> Saisir une ligne de code afin de visualiser l’évolution des quantités de matière pour la transformation n°3.<br>\n",
    "</div>"
   ]
  },
  {
   "cell_type": "code",
   "execution_count": null,
   "metadata": {},
   "outputs": [],
   "source": [
    "print(\"***********************TRANSFORMATION N°3***********************\")\n",
    "---A COMPLETER---"
   ]
  },
  {
   "cell_type": "markdown",
   "metadata": {},
   "source": [
    "<div class=\"alert alert-success\" role=\"alert\">\n",
    "<b>Questions pour la transformation n°3 :</b><br>\n",
    "3.1 Déterminer graphiquement le réactif limitant et la valeur de l’avancement final.<br>\n",
    "3.2\tDéterminer graphiquement les quantités de matière à l’état final des espèces chimiques en supposant la transformation chimique totale.</div><br>\n",
    "\n",
    "<div class=\"alert alert-warning\">\n",
    "<b>Travail à faire : </b> Vérifier vos réponses précédentes en écrivant une ligne de code afin de d'afficher le tableau contenant les quantités de matière pour un avancement x.<br>\n",
    "</div>\n"
   ]
  },
  {
   "cell_type": "code",
   "execution_count": null,
   "metadata": {},
   "outputs": [],
   "source": [
    "print(\"***********************TRANSFORMATION N°3***********************\")\n",
    "---A COMPLETER---"
   ]
  }
 ],
 "metadata": {
  "kernelspec": {
   "display_name": "Python 3",
   "language": "python",
   "name": "python3"
  },
  "language_info": {
   "codemirror_mode": {
    "name": "ipython",
    "version": 3
   },
   "file_extension": ".py",
   "mimetype": "text/x-python",
   "name": "python",
   "nbconvert_exporter": "python",
   "pygments_lexer": "ipython3",
   "version": "3.7.6"
  }
 },
 "nbformat": 4,
 "nbformat_minor": 2
}
